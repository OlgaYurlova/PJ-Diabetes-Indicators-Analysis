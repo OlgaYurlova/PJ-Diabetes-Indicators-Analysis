{
 "cells": [
  {
   "cell_type": "markdown",
   "id": "7a063e7c",
   "metadata": {},
   "source": [
    "# PJ Diabetes indicators analysis."
   ]
  },
  {
   "cell_type": "markdown",
   "id": "bd02325f",
   "metadata": {},
   "source": [
    "## Olga Yurlova\n",
    "### Course \"Data Science in Medicine\""
   ]
  },
  {
   "cell_type": "code",
   "execution_count": 1466,
   "id": "977dfd07",
   "metadata": {},
   "outputs": [],
   "source": [
    "import numpy as np\n",
    "import pandas as pd\n",
    "import matplotlib.pyplot as plt\n",
    "import seaborn as sns"
   ]
  },
  {
   "cell_type": "code",
   "execution_count": 1467,
   "id": "74cc4bc6",
   "metadata": {},
   "outputs": [],
   "source": [
    "def null_percent_col(dataset):\n",
    "    '''Percentage of null values in columns'''\n",
    "    for col in dataset.columns:\n",
    "        zero_percent = (dataset[col] == 0).mean() * 100\n",
    "        print(f'{col} : {zero_percent:.2f}%')\n",
    "    return"
   ]
  },
  {
   "cell_type": "code",
   "execution_count": 1468,
   "id": "b425a305",
   "metadata": {},
   "outputs": [],
   "source": [
    "def isna_percent_col(dataset):\n",
    "    '''Percent of missing values'''\n",
    "    for col in dataset.columns:\n",
    "        na_percent = dataset[col].isna().mean() * 100\n",
    "        print(f'{col} : {na_percent:.2f}%')\n",
    "    return"
   ]
  },
  {
   "cell_type": "code",
   "execution_count": 1469,
   "id": "506d4ba2",
   "metadata": {},
   "outputs": [],
   "source": [
    "def drop_na_row_col_percent(dataset, percent: float):\n",
    "    '''Drop data with missing values less than %'''\n",
    "    for col in dataset.columns:\n",
    "        zero_percent = (dataset[col] == 0).mean() * 100\n",
    "        print(zero_percent)\n",
    "        if zero_percent >= percent:\n",
    "            dataset = dataset[dataset[col] != 0]\n",
    "    return"
   ]
  },
  {
   "cell_type": "code",
   "execution_count": 1470,
   "id": "cedec82e",
   "metadata": {},
   "outputs": [],
   "source": [
    "def fill_na_median(dataset, col: str):\n",
    "    '''Fill the missing values with median'''\n",
    "    dataset[col].fillna(dataset[col].median(), inplace=True)\n",
    "    return"
   ]
  },
  {
   "cell_type": "code",
   "execution_count": 1471,
   "id": "964a18e3",
   "metadata": {},
   "outputs": [],
   "source": [
    "def fill_na_mode(dataset, col: str):\n",
    "    '''Fill the missing values with median'''\n",
    "    dataset[col].fillna(dataset[col].mode()[0], inplace=True)\n",
    "    return"
   ]
  },
  {
   "cell_type": "code",
   "execution_count": 1472,
   "id": "1012eb88",
   "metadata": {},
   "outputs": [],
   "source": [
    "def data_concat(dataset1,dataset2):\n",
    "    '''Two datasets concatenation'''\n",
    "    dataset1['set'] = \"dataset1\"\n",
    "    dataset2['set'] = \"dataset2\"\n",
    "    data_concat = pd.concat([dataset1, dataset2])\n",
    "    data_concat=data_concat.drop(['set'], axis=1) #drop 'set' as not neccesary any more\n",
    "    return data_concat"
   ]
  },
  {
   "cell_type": "code",
   "execution_count": 1473,
   "id": "760a1b58",
   "metadata": {},
   "outputs": [],
   "source": [
    "def del_columns(dataset, cols: list):\n",
    "    '''Delete columns from dataset'''\n",
    "    return dataset.drop(columns=cols)"
   ]
  },
  {
   "cell_type": "code",
   "execution_count": 1474,
   "id": "822a4dae",
   "metadata": {},
   "outputs": [],
   "source": [
    "def col_name_change(dataset, old_col: str, new_col: str):\n",
    "    '''Change column name'''\n",
    "    dataset.rename(columns={old_col: new_col}, inplace=True)\n",
    "    return dataset"
   ]
  },
  {
   "cell_type": "code",
   "execution_count": 1475,
   "id": "0890de48",
   "metadata": {},
   "outputs": [],
   "source": [
    "def add_col(dataset, col_name: str, value):\n",
    "    '''Add a new column with value'''\n",
    "    dataset[col_name] = value\n",
    "    return"
   ]
  },
  {
   "cell_type": "code",
   "execution_count": 1476,
   "id": "c91b6c99",
   "metadata": {},
   "outputs": [],
   "source": [
    "def corr_matrix(dataset, title: str): \n",
    "    '''The correlation matrix of features and lable in a dataset'''\n",
    "    plt.figure(figsize = [20, 15])\n",
    "    plt.subplot(3, 3, 1)\n",
    "    corr=dataset.corr()\n",
    "    sns.heatmap(corr,annot=True,fmt='0.2f',linewidth=0.5)\n",
    "    plt.title(title)\n",
    "    plt.show()\n",
    "    return"
   ]
  },
  {
   "cell_type": "code",
   "execution_count": 1477,
   "id": "dfe2f58d",
   "metadata": {},
   "outputs": [],
   "source": [
    "def data_displot(dataset, col: str, hue: str, title: str): \n",
    "    '''The distribution via displot'''\n",
    "    plt.figure(figsize = [20, 15])\n",
    "    sns.displot(data = dataset, kde=True, x = dataset[col], hue=hue, palette=palette)\n",
    "    plt.title(title)\n",
    "    plt.plot()\n",
    "    plt.show()\n",
    "    return"
   ]
  },
  {
   "cell_type": "code",
   "execution_count": 1478,
   "id": "8fe87237",
   "metadata": {},
   "outputs": [],
   "source": [
    "def data_boxplot(dataset, col1: str, col2: str, title: str):\n",
    "    '''The distribution via boxplot'''\n",
    "    plt.figure(figsize = [20, 15])\n",
    "    plt.subplot(3, 3, 1)\n",
    "    sns.boxplot(data = dataset, y = dataset[col1], x = dataset[col2], dodge=True, palette=palette)\n",
    "    plt.title(title)\n",
    "    plt.plot()\n",
    "    plt.show()\n",
    "    return"
   ]
  },
  {
   "cell_type": "code",
   "execution_count": 1479,
   "id": "86a0c64c",
   "metadata": {},
   "outputs": [],
   "source": [
    "def data_violinplot(dataset, col1: str, col2: str, title: str):\n",
    "    '''The distribution via violinplot'''\n",
    "    plt.figure(figsize=(20, 10))\n",
    "    plt.subplot(3, 3, 1)\n",
    "    sns.violinplot(x=col1, y=col2, data=dataset)\n",
    "    plt.title(title)\n",
    "    plt.show()\n",
    "    return"
   ]
  },
  {
   "cell_type": "code",
   "execution_count": 1480,
   "id": "95358b39",
   "metadata": {},
   "outputs": [],
   "source": [
    "def data_regplot(dataset, col1: str, col2: str, col3: str, title: str):\n",
    "    '''The distribution via regplot'''\n",
    "    plt.figure(figsize=(20, 10))\n",
    "    plt.subplot(3, 3, 1)\n",
    "    sns.regplot(x=col1, y=col2, data=original_diabetes_copy[original_diabetes_copy[col3] == 0], color='blue') \n",
    "    sns.regplot(x=col1, y=col2, data=original_diabetes_copy[original_diabetes_copy[col3] == 1], color='red')\n",
    "    plt.title(title)\n",
    "    plt.show()\n",
    "    return"
   ]
  },
  {
   "cell_type": "code",
   "execution_count": 1481,
   "id": "37adee56",
   "metadata": {},
   "outputs": [],
   "source": [
    "def data_lmplot(dataset, col1: str, col2: str, col3: str, title: str):\n",
    "    '''The distribution via lmplot'''\n",
    "    plt.figure(figsize=(20, 10))\n",
    "    sns.lmplot(data=dataset,x=col1,y=col2,hue=col3,x_bins=1000,fit_reg=False)\n",
    "    plt.title(title)\n",
    "    plt.show()\n",
    "    return"
   ]
  },
  {
   "cell_type": "code",
   "execution_count": 1482,
   "id": "c7d696b2",
   "metadata": {},
   "outputs": [],
   "source": [
    "def data_pie_plot_labels(dataset, col: str, labels: list, title: str):\n",
    "    '''The distribution via pie plot'''\n",
    "    dataset[col].value_counts().plot.pie(labels=labels)\n",
    "    plt.title(title)\n",
    "    plt.show()\n",
    "    return"
   ]
  },
  {
   "cell_type": "code",
   "execution_count": 1483,
   "id": "f7b6a35d",
   "metadata": {},
   "outputs": [],
   "source": [
    "def age_ranges_bins_labels(dataset, col1: str, col2: str, bins: int, labels: list):\n",
    "    dataset[col2]=pd.cut(dataset[col1], bins , labels = labels)\n",
    "    return "
   ]
  },
  {
   "cell_type": "markdown",
   "id": "0e046f18",
   "metadata": {},
   "source": [
    "### Load data"
   ]
  },
  {
   "cell_type": "markdown",
   "id": "0415538f",
   "metadata": {},
   "source": [
    "#### Dataset 1. Diabetes"
   ]
  },
  {
   "cell_type": "code",
   "execution_count": 1484,
   "id": "84d8f684",
   "metadata": {},
   "outputs": [
    {
     "data": {
      "text/html": [
       "<div>\n",
       "<style scoped>\n",
       "    .dataframe tbody tr th:only-of-type {\n",
       "        vertical-align: middle;\n",
       "    }\n",
       "\n",
       "    .dataframe tbody tr th {\n",
       "        vertical-align: top;\n",
       "    }\n",
       "\n",
       "    .dataframe thead th {\n",
       "        text-align: right;\n",
       "    }\n",
       "</style>\n",
       "<table border=\"1\" class=\"dataframe\">\n",
       "  <thead>\n",
       "    <tr style=\"text-align: right;\">\n",
       "      <th></th>\n",
       "      <th>Pregnancies</th>\n",
       "      <th>Glucose</th>\n",
       "      <th>BloodPressure</th>\n",
       "      <th>SkinThickness</th>\n",
       "      <th>Insulin</th>\n",
       "      <th>BMI</th>\n",
       "      <th>DiabetesPedigreeFunction</th>\n",
       "      <th>Age</th>\n",
       "      <th>Outcome</th>\n",
       "    </tr>\n",
       "  </thead>\n",
       "  <tbody>\n",
       "    <tr>\n",
       "      <th>0</th>\n",
       "      <td>6</td>\n",
       "      <td>148</td>\n",
       "      <td>72</td>\n",
       "      <td>35</td>\n",
       "      <td>0</td>\n",
       "      <td>33.6</td>\n",
       "      <td>0.627</td>\n",
       "      <td>50</td>\n",
       "      <td>1</td>\n",
       "    </tr>\n",
       "    <tr>\n",
       "      <th>1</th>\n",
       "      <td>1</td>\n",
       "      <td>85</td>\n",
       "      <td>66</td>\n",
       "      <td>29</td>\n",
       "      <td>0</td>\n",
       "      <td>26.6</td>\n",
       "      <td>0.351</td>\n",
       "      <td>31</td>\n",
       "      <td>0</td>\n",
       "    </tr>\n",
       "    <tr>\n",
       "      <th>2</th>\n",
       "      <td>8</td>\n",
       "      <td>183</td>\n",
       "      <td>64</td>\n",
       "      <td>0</td>\n",
       "      <td>0</td>\n",
       "      <td>23.3</td>\n",
       "      <td>0.672</td>\n",
       "      <td>32</td>\n",
       "      <td>1</td>\n",
       "    </tr>\n",
       "    <tr>\n",
       "      <th>3</th>\n",
       "      <td>1</td>\n",
       "      <td>89</td>\n",
       "      <td>66</td>\n",
       "      <td>23</td>\n",
       "      <td>94</td>\n",
       "      <td>28.1</td>\n",
       "      <td>0.167</td>\n",
       "      <td>21</td>\n",
       "      <td>0</td>\n",
       "    </tr>\n",
       "    <tr>\n",
       "      <th>4</th>\n",
       "      <td>0</td>\n",
       "      <td>137</td>\n",
       "      <td>40</td>\n",
       "      <td>35</td>\n",
       "      <td>168</td>\n",
       "      <td>43.1</td>\n",
       "      <td>2.288</td>\n",
       "      <td>33</td>\n",
       "      <td>1</td>\n",
       "    </tr>\n",
       "  </tbody>\n",
       "</table>\n",
       "</div>"
      ],
      "text/plain": [
       "   Pregnancies  Glucose  BloodPressure  SkinThickness  Insulin   BMI  \\\n",
       "0            6      148             72             35        0  33.6   \n",
       "1            1       85             66             29        0  26.6   \n",
       "2            8      183             64              0        0  23.3   \n",
       "3            1       89             66             23       94  28.1   \n",
       "4            0      137             40             35      168  43.1   \n",
       "\n",
       "   DiabetesPedigreeFunction  Age  Outcome  \n",
       "0                     0.627   50        1  \n",
       "1                     0.351   31        0  \n",
       "2                     0.672   32        1  \n",
       "3                     0.167   21        0  \n",
       "4                     2.288   33        1  "
      ]
     },
     "execution_count": 1484,
     "metadata": {},
     "output_type": "execute_result"
    }
   ],
   "source": [
    "original_diabetes=pd.read_csv(\"diabetes.csv\")\n",
    "original_diabetes.head()"
   ]
  },
  {
   "cell_type": "markdown",
   "id": "e2a896d0",
   "metadata": {},
   "source": [
    "The diabetes dataset is part of a larger dataset, and it includes data just about females at least 21 years old of Pima Indian heritage.\\\n",
    "The feature \"Outcome\" is a prediction based on diagnostic measurements whether a patient has diabetes (1, 0 if not).\n",
    "It includes 768 records and 9 attributes."
   ]
  },
  {
   "cell_type": "code",
   "execution_count": 1485,
   "id": "4c96fea2",
   "metadata": {},
   "outputs": [
    {
     "name": "stdout",
     "output_type": "stream",
     "text": [
      "<class 'pandas.core.frame.DataFrame'>\n",
      "RangeIndex: 768 entries, 0 to 767\n",
      "Data columns (total 9 columns):\n",
      " #   Column                    Non-Null Count  Dtype  \n",
      "---  ------                    --------------  -----  \n",
      " 0   Pregnancies               768 non-null    int64  \n",
      " 1   Glucose                   768 non-null    int64  \n",
      " 2   BloodPressure             768 non-null    int64  \n",
      " 3   SkinThickness             768 non-null    int64  \n",
      " 4   Insulin                   768 non-null    int64  \n",
      " 5   BMI                       768 non-null    float64\n",
      " 6   DiabetesPedigreeFunction  768 non-null    float64\n",
      " 7   Age                       768 non-null    int64  \n",
      " 8   Outcome                   768 non-null    int64  \n",
      "dtypes: float64(2), int64(7)\n",
      "memory usage: 54.1 KB\n"
     ]
    }
   ],
   "source": [
    "# Data info\n",
    "original_diabetes.info()"
   ]
  },
  {
   "cell_type": "markdown",
   "id": "81b0f917",
   "metadata": {},
   "source": [
    "#### Columns describtion:\n",
    "\n",
    "    Pregnancies:              Number of times pregnant\n",
    "    Glucose:                  Plasma glucose concentration a 2 hours in an oral glucose tolerance test\n",
    "    BloodPressure:            Diastolic blood pressure (mm Hg)\n",
    "    SkinThickness:            Triceps skin fold thickness (mm)\n",
    "    Insulin:                  2-Hour serum insulin (mu U/ml)\n",
    "    BMI:                      Body mass index (weight in kg/(height in m)^2)\n",
    "    DiabetesPedigreeFunction: Diabetes pedigree function\n",
    "    Age:                      Age (years)\n",
    "    Outcome:                  Predicted diebetes (0 or 1)\n"
   ]
  },
  {
   "cell_type": "code",
   "execution_count": 1486,
   "id": "1bd25b59",
   "metadata": {},
   "outputs": [
    {
     "data": {
      "text/html": [
       "<div>\n",
       "<style scoped>\n",
       "    .dataframe tbody tr th:only-of-type {\n",
       "        vertical-align: middle;\n",
       "    }\n",
       "\n",
       "    .dataframe tbody tr th {\n",
       "        vertical-align: top;\n",
       "    }\n",
       "\n",
       "    .dataframe thead th {\n",
       "        text-align: right;\n",
       "    }\n",
       "</style>\n",
       "<table border=\"1\" class=\"dataframe\">\n",
       "  <thead>\n",
       "    <tr style=\"text-align: right;\">\n",
       "      <th></th>\n",
       "      <th>Pregnancies</th>\n",
       "      <th>Glucose</th>\n",
       "      <th>BloodPressure</th>\n",
       "      <th>SkinThickness</th>\n",
       "      <th>Insulin</th>\n",
       "      <th>BMI</th>\n",
       "      <th>DiabetesPedigreeFunction</th>\n",
       "      <th>Age</th>\n",
       "      <th>Outcome</th>\n",
       "    </tr>\n",
       "  </thead>\n",
       "  <tbody>\n",
       "    <tr>\n",
       "      <th>count</th>\n",
       "      <td>768.000000</td>\n",
       "      <td>768.000000</td>\n",
       "      <td>768.000000</td>\n",
       "      <td>768.000000</td>\n",
       "      <td>768.000000</td>\n",
       "      <td>768.000000</td>\n",
       "      <td>768.000000</td>\n",
       "      <td>768.000000</td>\n",
       "      <td>768.000000</td>\n",
       "    </tr>\n",
       "    <tr>\n",
       "      <th>mean</th>\n",
       "      <td>3.845052</td>\n",
       "      <td>120.894531</td>\n",
       "      <td>69.105469</td>\n",
       "      <td>20.536458</td>\n",
       "      <td>79.799479</td>\n",
       "      <td>31.992578</td>\n",
       "      <td>0.471876</td>\n",
       "      <td>33.240885</td>\n",
       "      <td>0.348958</td>\n",
       "    </tr>\n",
       "    <tr>\n",
       "      <th>std</th>\n",
       "      <td>3.369578</td>\n",
       "      <td>31.972618</td>\n",
       "      <td>19.355807</td>\n",
       "      <td>15.952218</td>\n",
       "      <td>115.244002</td>\n",
       "      <td>7.884160</td>\n",
       "      <td>0.331329</td>\n",
       "      <td>11.760232</td>\n",
       "      <td>0.476951</td>\n",
       "    </tr>\n",
       "    <tr>\n",
       "      <th>min</th>\n",
       "      <td>0.000000</td>\n",
       "      <td>0.000000</td>\n",
       "      <td>0.000000</td>\n",
       "      <td>0.000000</td>\n",
       "      <td>0.000000</td>\n",
       "      <td>0.000000</td>\n",
       "      <td>0.078000</td>\n",
       "      <td>21.000000</td>\n",
       "      <td>0.000000</td>\n",
       "    </tr>\n",
       "    <tr>\n",
       "      <th>25%</th>\n",
       "      <td>1.000000</td>\n",
       "      <td>99.000000</td>\n",
       "      <td>62.000000</td>\n",
       "      <td>0.000000</td>\n",
       "      <td>0.000000</td>\n",
       "      <td>27.300000</td>\n",
       "      <td>0.243750</td>\n",
       "      <td>24.000000</td>\n",
       "      <td>0.000000</td>\n",
       "    </tr>\n",
       "    <tr>\n",
       "      <th>50%</th>\n",
       "      <td>3.000000</td>\n",
       "      <td>117.000000</td>\n",
       "      <td>72.000000</td>\n",
       "      <td>23.000000</td>\n",
       "      <td>30.500000</td>\n",
       "      <td>32.000000</td>\n",
       "      <td>0.372500</td>\n",
       "      <td>29.000000</td>\n",
       "      <td>0.000000</td>\n",
       "    </tr>\n",
       "    <tr>\n",
       "      <th>75%</th>\n",
       "      <td>6.000000</td>\n",
       "      <td>140.250000</td>\n",
       "      <td>80.000000</td>\n",
       "      <td>32.000000</td>\n",
       "      <td>127.250000</td>\n",
       "      <td>36.600000</td>\n",
       "      <td>0.626250</td>\n",
       "      <td>41.000000</td>\n",
       "      <td>1.000000</td>\n",
       "    </tr>\n",
       "    <tr>\n",
       "      <th>max</th>\n",
       "      <td>17.000000</td>\n",
       "      <td>199.000000</td>\n",
       "      <td>122.000000</td>\n",
       "      <td>99.000000</td>\n",
       "      <td>846.000000</td>\n",
       "      <td>67.100000</td>\n",
       "      <td>2.420000</td>\n",
       "      <td>81.000000</td>\n",
       "      <td>1.000000</td>\n",
       "    </tr>\n",
       "  </tbody>\n",
       "</table>\n",
       "</div>"
      ],
      "text/plain": [
       "       Pregnancies     Glucose  BloodPressure  SkinThickness     Insulin  \\\n",
       "count   768.000000  768.000000     768.000000     768.000000  768.000000   \n",
       "mean      3.845052  120.894531      69.105469      20.536458   79.799479   \n",
       "std       3.369578   31.972618      19.355807      15.952218  115.244002   \n",
       "min       0.000000    0.000000       0.000000       0.000000    0.000000   \n",
       "25%       1.000000   99.000000      62.000000       0.000000    0.000000   \n",
       "50%       3.000000  117.000000      72.000000      23.000000   30.500000   \n",
       "75%       6.000000  140.250000      80.000000      32.000000  127.250000   \n",
       "max      17.000000  199.000000     122.000000      99.000000  846.000000   \n",
       "\n",
       "              BMI  DiabetesPedigreeFunction         Age     Outcome  \n",
       "count  768.000000                768.000000  768.000000  768.000000  \n",
       "mean    31.992578                  0.471876   33.240885    0.348958  \n",
       "std      7.884160                  0.331329   11.760232    0.476951  \n",
       "min      0.000000                  0.078000   21.000000    0.000000  \n",
       "25%     27.300000                  0.243750   24.000000    0.000000  \n",
       "50%     32.000000                  0.372500   29.000000    0.000000  \n",
       "75%     36.600000                  0.626250   41.000000    1.000000  \n",
       "max     67.100000                  2.420000   81.000000    1.000000  "
      ]
     },
     "execution_count": 1486,
     "metadata": {},
     "output_type": "execute_result"
    }
   ],
   "source": [
    "# Data describtion\n",
    "original_diabetes.describe(include='all')"
   ]
  },
  {
   "cell_type": "markdown",
   "id": "4bff7c6b",
   "metadata": {},
   "source": [
    "### Data preprocessing"
   ]
  },
  {
   "cell_type": "code",
   "execution_count": 1487,
   "id": "88db84c6",
   "metadata": {},
   "outputs": [
    {
     "data": {
      "text/plain": [
       "Pregnancies                 0\n",
       "Glucose                     0\n",
       "BloodPressure               0\n",
       "SkinThickness               0\n",
       "Insulin                     0\n",
       "BMI                         0\n",
       "DiabetesPedigreeFunction    0\n",
       "Age                         0\n",
       "Outcome                     0\n",
       "dtype: int64"
      ]
     },
     "execution_count": 1487,
     "metadata": {},
     "output_type": "execute_result"
    }
   ],
   "source": [
    "# Checking for missing value\n",
    "original_diabetes.isna().sum()"
   ]
  },
  {
   "cell_type": "code",
   "execution_count": 1488,
   "id": "e01fb7c2",
   "metadata": {},
   "outputs": [
    {
     "data": {
      "text/plain": [
       "0"
      ]
     },
     "execution_count": 1488,
     "metadata": {},
     "output_type": "execute_result"
    }
   ],
   "source": [
    "# Check duplicate rows\n",
    "original_diabetes.duplicated().sum()"
   ]
  },
  {
   "cell_type": "code",
   "execution_count": 1489,
   "id": "7093a160",
   "metadata": {},
   "outputs": [
    {
     "data": {
      "text/plain": [
       "Pregnancies                 111\n",
       "Glucose                       5\n",
       "BloodPressure                35\n",
       "SkinThickness               227\n",
       "Insulin                     374\n",
       "BMI                          11\n",
       "DiabetesPedigreeFunction      0\n",
       "Age                           0\n",
       "Outcome                     500\n",
       "dtype: int64"
      ]
     },
     "execution_count": 1489,
     "metadata": {},
     "output_type": "execute_result"
    }
   ],
   "source": [
    "# Check for null values\n",
    "(original_diabetes == 0).sum()"
   ]
  },
  {
   "cell_type": "code",
   "execution_count": 1490,
   "id": "3524a392",
   "metadata": {},
   "outputs": [
    {
     "name": "stdout",
     "output_type": "stream",
     "text": [
      "Pregnancies : 14.45%\n",
      "Glucose : 0.65%\n",
      "BloodPressure : 4.56%\n",
      "SkinThickness : 29.56%\n",
      "Insulin : 48.70%\n",
      "BMI : 1.43%\n",
      "DiabetesPedigreeFunction : 0.00%\n",
      "Age : 0.00%\n",
      "Outcome : 65.10%\n"
     ]
    }
   ],
   "source": [
    "null_percent_col(original_diabetes)"
   ]
  },
  {
   "cell_type": "markdown",
   "id": "97cb7812",
   "metadata": {},
   "source": [
    "The Diabetes dataset does not have missing and duplicated values."
   ]
  },
  {
   "cell_type": "markdown",
   "id": "b5c0f4e1",
   "metadata": {},
   "source": [
    "Columns, which could content missing or incorrect data:\\\n",
    "Glucose - The minimum value is 0 which is not possible.\\\n",
    "BloodPressure - The blood pressure of 0 is not possible.\\\n",
    "SkinThickness - The skin thickness of 0 is not possible.\\\n",
    "Insulin -  The insulin level of 0 is not possible.\\\n",
    "BMI -  The body mass index (BMI) of 0 is not possible."
   ]
  },
  {
   "cell_type": "code",
   "execution_count": 1491,
   "id": "5e85a0a5",
   "metadata": {},
   "outputs": [],
   "source": [
    "# create copy of original_diabetes for data preprocessing\n",
    "original_diabetes_copy = original_diabetes.copy()"
   ]
  },
  {
   "cell_type": "markdown",
   "id": "73f7e89e",
   "metadata": {},
   "source": [
    "The columns 'Glucose', 'BloodPressure', 'BMI' have less than 5% null values. So then it is acceptable to delete incorrect data."
   ]
  },
  {
   "cell_type": "code",
   "execution_count": 1492,
   "id": "0b76b939",
   "metadata": {},
   "outputs": [],
   "source": [
    "original_diabetes_copy[['Glucose','BloodPressure','SkinThickness','Insulin'\n",
    "                        ,'BMI']] = original_diabetes_copy[['Glucose','BloodPressure','SkinThickness','Insulin'\n",
    "                                                           ,'BMI']].replace(0,np.NaN)\n"
   ]
  },
  {
   "cell_type": "code",
   "execution_count": 1493,
   "id": "7ded6fba",
   "metadata": {},
   "outputs": [
    {
     "name": "stdout",
     "output_type": "stream",
     "text": [
      "14.453125\n",
      "0.0\n",
      "0.0\n",
      "0.0\n",
      "0.0\n",
      "0.0\n",
      "0.0\n",
      "0.0\n",
      "64.9923896499239\n"
     ]
    }
   ],
   "source": [
    "drop_na_row_col_percent(original_diabetes_copy,5)"
   ]
  },
  {
   "cell_type": "code",
   "execution_count": 1494,
   "id": "ea0522e6",
   "metadata": {
    "scrolled": true
   },
   "outputs": [
    {
     "data": {
      "text/plain": [
       "Pregnancies                 111\n",
       "Glucose                       0\n",
       "BloodPressure                 0\n",
       "SkinThickness                 0\n",
       "Insulin                       0\n",
       "BMI                           0\n",
       "DiabetesPedigreeFunction      0\n",
       "Age                           0\n",
       "Outcome                     500\n",
       "dtype: int64"
      ]
     },
     "execution_count": 1494,
     "metadata": {},
     "output_type": "execute_result"
    }
   ],
   "source": [
    "(original_diabetes_copy == 0).sum()"
   ]
  },
  {
   "cell_type": "markdown",
   "id": "13741be4",
   "metadata": {},
   "source": [
    "Other incorrect data will be replaced with median values. "
   ]
  },
  {
   "cell_type": "code",
   "execution_count": 1495,
   "id": "55da6841",
   "metadata": {
    "scrolled": true
   },
   "outputs": [
    {
     "data": {
      "text/html": [
       "<div>\n",
       "<style scoped>\n",
       "    .dataframe tbody tr th:only-of-type {\n",
       "        vertical-align: middle;\n",
       "    }\n",
       "\n",
       "    .dataframe tbody tr th {\n",
       "        vertical-align: top;\n",
       "    }\n",
       "\n",
       "    .dataframe thead th {\n",
       "        text-align: right;\n",
       "    }\n",
       "</style>\n",
       "<table border=\"1\" class=\"dataframe\">\n",
       "  <thead>\n",
       "    <tr style=\"text-align: right;\">\n",
       "      <th></th>\n",
       "      <th>Pregnancies</th>\n",
       "      <th>Glucose</th>\n",
       "      <th>BloodPressure</th>\n",
       "      <th>SkinThickness</th>\n",
       "      <th>Insulin</th>\n",
       "      <th>BMI</th>\n",
       "      <th>DiabetesPedigreeFunction</th>\n",
       "      <th>Age</th>\n",
       "      <th>Outcome</th>\n",
       "    </tr>\n",
       "  </thead>\n",
       "  <tbody>\n",
       "    <tr>\n",
       "      <th>0</th>\n",
       "      <td>6</td>\n",
       "      <td>148.0</td>\n",
       "      <td>72.0</td>\n",
       "      <td>35.0</td>\n",
       "      <td>125.0</td>\n",
       "      <td>33.6</td>\n",
       "      <td>0.627</td>\n",
       "      <td>50</td>\n",
       "      <td>1</td>\n",
       "    </tr>\n",
       "    <tr>\n",
       "      <th>1</th>\n",
       "      <td>1</td>\n",
       "      <td>85.0</td>\n",
       "      <td>66.0</td>\n",
       "      <td>29.0</td>\n",
       "      <td>125.0</td>\n",
       "      <td>26.6</td>\n",
       "      <td>0.351</td>\n",
       "      <td>31</td>\n",
       "      <td>0</td>\n",
       "    </tr>\n",
       "    <tr>\n",
       "      <th>2</th>\n",
       "      <td>8</td>\n",
       "      <td>183.0</td>\n",
       "      <td>64.0</td>\n",
       "      <td>29.0</td>\n",
       "      <td>125.0</td>\n",
       "      <td>23.3</td>\n",
       "      <td>0.672</td>\n",
       "      <td>32</td>\n",
       "      <td>1</td>\n",
       "    </tr>\n",
       "    <tr>\n",
       "      <th>3</th>\n",
       "      <td>1</td>\n",
       "      <td>89.0</td>\n",
       "      <td>66.0</td>\n",
       "      <td>23.0</td>\n",
       "      <td>94.0</td>\n",
       "      <td>28.1</td>\n",
       "      <td>0.167</td>\n",
       "      <td>21</td>\n",
       "      <td>0</td>\n",
       "    </tr>\n",
       "    <tr>\n",
       "      <th>4</th>\n",
       "      <td>0</td>\n",
       "      <td>137.0</td>\n",
       "      <td>40.0</td>\n",
       "      <td>35.0</td>\n",
       "      <td>168.0</td>\n",
       "      <td>43.1</td>\n",
       "      <td>2.288</td>\n",
       "      <td>33</td>\n",
       "      <td>1</td>\n",
       "    </tr>\n",
       "  </tbody>\n",
       "</table>\n",
       "</div>"
      ],
      "text/plain": [
       "   Pregnancies  Glucose  BloodPressure  SkinThickness  Insulin   BMI  \\\n",
       "0            6    148.0           72.0           35.0    125.0  33.6   \n",
       "1            1     85.0           66.0           29.0    125.0  26.6   \n",
       "2            8    183.0           64.0           29.0    125.0  23.3   \n",
       "3            1     89.0           66.0           23.0     94.0  28.1   \n",
       "4            0    137.0           40.0           35.0    168.0  43.1   \n",
       "\n",
       "   DiabetesPedigreeFunction  Age  Outcome  \n",
       "0                     0.627   50        1  \n",
       "1                     0.351   31        0  \n",
       "2                     0.672   32        1  \n",
       "3                     0.167   21        0  \n",
       "4                     2.288   33        1  "
      ]
     },
     "execution_count": 1495,
     "metadata": {},
     "output_type": "execute_result"
    }
   ],
   "source": [
    "fill_na_median(original_diabetes_copy,'SkinThickness')\n",
    "fill_na_median(original_diabetes_copy,'Insulin')\n",
    "original_diabetes_copy.head()"
   ]
  },
  {
   "cell_type": "markdown",
   "id": "f5ab7d04",
   "metadata": {},
   "source": [
    "### Data analysis"
   ]
  },
  {
   "cell_type": "code",
   "execution_count": 1496,
   "id": "b677f93f",
   "metadata": {},
   "outputs": [],
   "source": [
    "# set the general graphics attributes\n",
    "palette = {0: 'blue', 1: 'red'} # blue for 'not having diabetes' and red for 'having diabetes'"
   ]
  },
  {
   "cell_type": "markdown",
   "id": "bdcc3732",
   "metadata": {},
   "source": [
    "##### Search for correlation between database features"
   ]
  },
  {
   "cell_type": "code",
   "execution_count": 1497,
   "id": "a2836522",
   "metadata": {},
   "outputs": [
    {
     "data": {
      "image/png": "[encoded data removed]",
      "text/plain": [
       "<Figure size 1440x1080 with 2 Axes>"
      ]
     },
     "metadata": {
      "needs_background": "light"
     },
     "output_type": "display_data"
    }
   ],
   "source": [
    "# Check data correlation\n",
    "corr_matrix(original_diabetes_copy,'Data correlation matrix')"
   ]
  },
  {
   "cell_type": "markdown",
   "id": "af6871c4",
   "metadata": {},
   "source": [
    "#### Conclusion: There is a significant correlation between glucose levels, increased body mass index, age on the one hand and diagnosed diabetes. At the same time the indicator of blood pressure can be useful for the PJ purpose."
   ]
  },
  {
   "cell_type": "code",
   "execution_count": 1498,
   "id": "b0232971",
   "metadata": {},
   "outputs": [
    {
     "data": {
      "text/plain": [
       "<Figure size 1440x1080 with 0 Axes>"
      ]
     },
     "metadata": {},
     "output_type": "display_data"
    },
    {
     "data": {
      "image/png": "[encoded data removed]",
      "text/plain": [
       "<Figure size 413.25x360 with 1 Axes>"
      ]
     },
     "metadata": {
      "needs_background": "light"
     },
     "output_type": "display_data"
    }
   ],
   "source": [
    "# The distribution of BMI via displot\n",
    "data_displot(original_diabetes_copy,'BMI','Outcome','BMI to observations')"
   ]
  },
  {
   "cell_type": "markdown",
   "id": "047ba56e",
   "metadata": {},
   "source": [
    "Distribution of BMI demonstrates that the inflexion point is about 33 for the diagnosed diabetes, in range BMI 30-45 people have  a higher probability of getting diabetes."
   ]
  },
  {
   "cell_type": "code",
   "execution_count": 1499,
   "id": "697760f2",
   "metadata": {},
   "outputs": [
    {
     "data": {
      "image/png": "[encoded data removed]",
      "text/plain": [
       "<Figure size 1440x1080 with 1 Axes>"
      ]
     },
     "metadata": {
      "needs_background": "light"
     },
     "output_type": "display_data"
    }
   ],
   "source": [
    "# The distribution Glucose via boxplot\n",
    "data_boxplot(original_diabetes_copy, 'Glucose', 'Outcome', 'Glucose per observations')"
   ]
  },
  {
   "cell_type": "markdown",
   "id": "61aceb57",
   "metadata": {},
   "source": [
    "The boxplot proves a significant impact of the glucose level on the positive diagnosis."
   ]
  },
  {
   "cell_type": "code",
   "execution_count": 1500,
   "id": "e1a21777",
   "metadata": {},
   "outputs": [
    {
     "data": {
      "image/png": "[encoded data removed]",
      "text/plain": [
       "<Figure size 1440x720 with 1 Axes>"
      ]
     },
     "metadata": {
      "needs_background": "light"
     },
     "output_type": "display_data"
    }
   ],
   "source": [
    "# Age distribution to the Outcome in a violin plot\n",
    "data_violinplot(original_diabetes_copy, 'Outcome', 'Age', 'Outcome to Age')"
   ]
  },
  {
   "cell_type": "markdown",
   "id": "dae91b93",
   "metadata": {},
   "source": [
    "The correlation of diabetes and age shows a period of life when diabetes can be diagnosed with higher probability"
   ]
  },
  {
   "cell_type": "code",
   "execution_count": 1501,
   "id": "6bc66267",
   "metadata": {},
   "outputs": [
    {
     "data": {
      "image/png": "[encoded data removed]",
      "text/plain": [
       "<Figure size 1440x720 with 1 Axes>"
      ]
     },
     "metadata": {
      "needs_background": "light"
     },
     "output_type": "display_data"
    }
   ],
   "source": [
    "#Estimate a correlation between the two most significant features: Glucose and BMI\n",
    "data_regplot(original_diabetes_copy, 'BMI', 'Glucose', 'Outcome', 'Glucose vs BMI')\n"
   ]
  },
  {
   "cell_type": "markdown",
   "id": "a1183d1c",
   "metadata": {},
   "source": [
    "#### Conclusion: 2 features - Glucose and BMI - are the most significant indicators having connection to the diabetes."
   ]
  },
  {
   "cell_type": "markdown",
   "id": "f0e7daca",
   "metadata": {},
   "source": [
    "#### Preprocessing before merge with Dataset 2."
   ]
  },
  {
   "cell_type": "code",
   "execution_count": 1502,
   "id": "e29650fa",
   "metadata": {},
   "outputs": [
    {
     "data": {
      "text/html": [
       "<div>\n",
       "<style scoped>\n",
       "    .dataframe tbody tr th:only-of-type {\n",
       "        vertical-align: middle;\n",
       "    }\n",
       "\n",
       "    .dataframe tbody tr th {\n",
       "        vertical-align: top;\n",
       "    }\n",
       "\n",
       "    .dataframe thead th {\n",
       "        text-align: right;\n",
       "    }\n",
       "</style>\n",
       "<table border=\"1\" class=\"dataframe\">\n",
       "  <thead>\n",
       "    <tr style=\"text-align: right;\">\n",
       "      <th></th>\n",
       "      <th>Pregnancies</th>\n",
       "      <th>glucose</th>\n",
       "      <th>diaBP</th>\n",
       "      <th>SkinThickness</th>\n",
       "      <th>Insulin</th>\n",
       "      <th>BMI</th>\n",
       "      <th>DiabetesPedigreeFunction</th>\n",
       "      <th>age</th>\n",
       "      <th>diabetes</th>\n",
       "    </tr>\n",
       "  </thead>\n",
       "  <tbody>\n",
       "    <tr>\n",
       "      <th>0</th>\n",
       "      <td>6</td>\n",
       "      <td>148.0</td>\n",
       "      <td>72.0</td>\n",
       "      <td>35.0</td>\n",
       "      <td>125.0</td>\n",
       "      <td>33.6</td>\n",
       "      <td>0.627</td>\n",
       "      <td>50</td>\n",
       "      <td>1</td>\n",
       "    </tr>\n",
       "    <tr>\n",
       "      <th>1</th>\n",
       "      <td>1</td>\n",
       "      <td>85.0</td>\n",
       "      <td>66.0</td>\n",
       "      <td>29.0</td>\n",
       "      <td>125.0</td>\n",
       "      <td>26.6</td>\n",
       "      <td>0.351</td>\n",
       "      <td>31</td>\n",
       "      <td>0</td>\n",
       "    </tr>\n",
       "    <tr>\n",
       "      <th>2</th>\n",
       "      <td>8</td>\n",
       "      <td>183.0</td>\n",
       "      <td>64.0</td>\n",
       "      <td>29.0</td>\n",
       "      <td>125.0</td>\n",
       "      <td>23.3</td>\n",
       "      <td>0.672</td>\n",
       "      <td>32</td>\n",
       "      <td>1</td>\n",
       "    </tr>\n",
       "    <tr>\n",
       "      <th>3</th>\n",
       "      <td>1</td>\n",
       "      <td>89.0</td>\n",
       "      <td>66.0</td>\n",
       "      <td>23.0</td>\n",
       "      <td>94.0</td>\n",
       "      <td>28.1</td>\n",
       "      <td>0.167</td>\n",
       "      <td>21</td>\n",
       "      <td>0</td>\n",
       "    </tr>\n",
       "    <tr>\n",
       "      <th>4</th>\n",
       "      <td>0</td>\n",
       "      <td>137.0</td>\n",
       "      <td>40.0</td>\n",
       "      <td>35.0</td>\n",
       "      <td>168.0</td>\n",
       "      <td>43.1</td>\n",
       "      <td>2.288</td>\n",
       "      <td>33</td>\n",
       "      <td>1</td>\n",
       "    </tr>\n",
       "    <tr>\n",
       "      <th>...</th>\n",
       "      <td>...</td>\n",
       "      <td>...</td>\n",
       "      <td>...</td>\n",
       "      <td>...</td>\n",
       "      <td>...</td>\n",
       "      <td>...</td>\n",
       "      <td>...</td>\n",
       "      <td>...</td>\n",
       "      <td>...</td>\n",
       "    </tr>\n",
       "    <tr>\n",
       "      <th>763</th>\n",
       "      <td>10</td>\n",
       "      <td>101.0</td>\n",
       "      <td>76.0</td>\n",
       "      <td>48.0</td>\n",
       "      <td>180.0</td>\n",
       "      <td>32.9</td>\n",
       "      <td>0.171</td>\n",
       "      <td>63</td>\n",
       "      <td>0</td>\n",
       "    </tr>\n",
       "    <tr>\n",
       "      <th>764</th>\n",
       "      <td>2</td>\n",
       "      <td>122.0</td>\n",
       "      <td>70.0</td>\n",
       "      <td>27.0</td>\n",
       "      <td>125.0</td>\n",
       "      <td>36.8</td>\n",
       "      <td>0.340</td>\n",
       "      <td>27</td>\n",
       "      <td>0</td>\n",
       "    </tr>\n",
       "    <tr>\n",
       "      <th>765</th>\n",
       "      <td>5</td>\n",
       "      <td>121.0</td>\n",
       "      <td>72.0</td>\n",
       "      <td>23.0</td>\n",
       "      <td>112.0</td>\n",
       "      <td>26.2</td>\n",
       "      <td>0.245</td>\n",
       "      <td>30</td>\n",
       "      <td>0</td>\n",
       "    </tr>\n",
       "    <tr>\n",
       "      <th>766</th>\n",
       "      <td>1</td>\n",
       "      <td>126.0</td>\n",
       "      <td>60.0</td>\n",
       "      <td>29.0</td>\n",
       "      <td>125.0</td>\n",
       "      <td>30.1</td>\n",
       "      <td>0.349</td>\n",
       "      <td>47</td>\n",
       "      <td>1</td>\n",
       "    </tr>\n",
       "    <tr>\n",
       "      <th>767</th>\n",
       "      <td>1</td>\n",
       "      <td>93.0</td>\n",
       "      <td>70.0</td>\n",
       "      <td>31.0</td>\n",
       "      <td>125.0</td>\n",
       "      <td>30.4</td>\n",
       "      <td>0.315</td>\n",
       "      <td>23</td>\n",
       "      <td>0</td>\n",
       "    </tr>\n",
       "  </tbody>\n",
       "</table>\n",
       "<p>768 rows × 9 columns</p>\n",
       "</div>"
      ],
      "text/plain": [
       "     Pregnancies  glucose  diaBP  SkinThickness  Insulin   BMI  \\\n",
       "0              6    148.0   72.0           35.0    125.0  33.6   \n",
       "1              1     85.0   66.0           29.0    125.0  26.6   \n",
       "2              8    183.0   64.0           29.0    125.0  23.3   \n",
       "3              1     89.0   66.0           23.0     94.0  28.1   \n",
       "4              0    137.0   40.0           35.0    168.0  43.1   \n",
       "..           ...      ...    ...            ...      ...   ...   \n",
       "763           10    101.0   76.0           48.0    180.0  32.9   \n",
       "764            2    122.0   70.0           27.0    125.0  36.8   \n",
       "765            5    121.0   72.0           23.0    112.0  26.2   \n",
       "766            1    126.0   60.0           29.0    125.0  30.1   \n",
       "767            1     93.0   70.0           31.0    125.0  30.4   \n",
       "\n",
       "     DiabetesPedigreeFunction  age  diabetes  \n",
       "0                       0.627   50         1  \n",
       "1                       0.351   31         0  \n",
       "2                       0.672   32         1  \n",
       "3                       0.167   21         0  \n",
       "4                       2.288   33         1  \n",
       "..                        ...  ...       ...  \n",
       "763                     0.171   63         0  \n",
       "764                     0.340   27         0  \n",
       "765                     0.245   30         0  \n",
       "766                     0.349   47         1  \n",
       "767                     0.315   23         0  \n",
       "\n",
       "[768 rows x 9 columns]"
      ]
     },
     "execution_count": 1502,
     "metadata": {},
     "output_type": "execute_result"
    }
   ],
   "source": [
    "# Change column's names\n",
    "col_name_change(original_diabetes_copy, 'Outcome', 'diabetes')\n",
    "col_name_change(original_diabetes_copy, 'Glucose', 'glucose')\n",
    "col_name_change(original_diabetes_copy, 'Age', 'age')\n",
    "col_name_change(original_diabetes_copy, 'BloodPressure', 'diaBP')"
   ]
  },
  {
   "cell_type": "code",
   "execution_count": 1503,
   "id": "3f683154",
   "metadata": {},
   "outputs": [
    {
     "data": {
      "text/html": [
       "<div>\n",
       "<style scoped>\n",
       "    .dataframe tbody tr th:only-of-type {\n",
       "        vertical-align: middle;\n",
       "    }\n",
       "\n",
       "    .dataframe tbody tr th {\n",
       "        vertical-align: top;\n",
       "    }\n",
       "\n",
       "    .dataframe thead th {\n",
       "        text-align: right;\n",
       "    }\n",
       "</style>\n",
       "<table border=\"1\" class=\"dataframe\">\n",
       "  <thead>\n",
       "    <tr style=\"text-align: right;\">\n",
       "      <th></th>\n",
       "      <th>Pregnancies</th>\n",
       "      <th>glucose</th>\n",
       "      <th>diaBP</th>\n",
       "      <th>SkinThickness</th>\n",
       "      <th>Insulin</th>\n",
       "      <th>BMI</th>\n",
       "      <th>DiabetesPedigreeFunction</th>\n",
       "      <th>age</th>\n",
       "      <th>diabetes</th>\n",
       "      <th>sex</th>\n",
       "    </tr>\n",
       "  </thead>\n",
       "  <tbody>\n",
       "    <tr>\n",
       "      <th>0</th>\n",
       "      <td>6</td>\n",
       "      <td>148.0</td>\n",
       "      <td>72.0</td>\n",
       "      <td>35.0</td>\n",
       "      <td>125.0</td>\n",
       "      <td>33.6</td>\n",
       "      <td>0.627</td>\n",
       "      <td>50</td>\n",
       "      <td>1</td>\n",
       "      <td>F</td>\n",
       "    </tr>\n",
       "    <tr>\n",
       "      <th>1</th>\n",
       "      <td>1</td>\n",
       "      <td>85.0</td>\n",
       "      <td>66.0</td>\n",
       "      <td>29.0</td>\n",
       "      <td>125.0</td>\n",
       "      <td>26.6</td>\n",
       "      <td>0.351</td>\n",
       "      <td>31</td>\n",
       "      <td>0</td>\n",
       "      <td>F</td>\n",
       "    </tr>\n",
       "    <tr>\n",
       "      <th>2</th>\n",
       "      <td>8</td>\n",
       "      <td>183.0</td>\n",
       "      <td>64.0</td>\n",
       "      <td>29.0</td>\n",
       "      <td>125.0</td>\n",
       "      <td>23.3</td>\n",
       "      <td>0.672</td>\n",
       "      <td>32</td>\n",
       "      <td>1</td>\n",
       "      <td>F</td>\n",
       "    </tr>\n",
       "    <tr>\n",
       "      <th>3</th>\n",
       "      <td>1</td>\n",
       "      <td>89.0</td>\n",
       "      <td>66.0</td>\n",
       "      <td>23.0</td>\n",
       "      <td>94.0</td>\n",
       "      <td>28.1</td>\n",
       "      <td>0.167</td>\n",
       "      <td>21</td>\n",
       "      <td>0</td>\n",
       "      <td>F</td>\n",
       "    </tr>\n",
       "    <tr>\n",
       "      <th>4</th>\n",
       "      <td>0</td>\n",
       "      <td>137.0</td>\n",
       "      <td>40.0</td>\n",
       "      <td>35.0</td>\n",
       "      <td>168.0</td>\n",
       "      <td>43.1</td>\n",
       "      <td>2.288</td>\n",
       "      <td>33</td>\n",
       "      <td>1</td>\n",
       "      <td>F</td>\n",
       "    </tr>\n",
       "  </tbody>\n",
       "</table>\n",
       "</div>"
      ],
      "text/plain": [
       "   Pregnancies  glucose  diaBP  SkinThickness  Insulin   BMI  \\\n",
       "0            6    148.0   72.0           35.0    125.0  33.6   \n",
       "1            1     85.0   66.0           29.0    125.0  26.6   \n",
       "2            8    183.0   64.0           29.0    125.0  23.3   \n",
       "3            1     89.0   66.0           23.0     94.0  28.1   \n",
       "4            0    137.0   40.0           35.0    168.0  43.1   \n",
       "\n",
       "   DiabetesPedigreeFunction  age  diabetes sex  \n",
       "0                     0.627   50         1   F  \n",
       "1                     0.351   31         0   F  \n",
       "2                     0.672   32         1   F  \n",
       "3                     0.167   21         0   F  \n",
       "4                     2.288   33         1   F  "
      ]
     },
     "execution_count": 1503,
     "metadata": {},
     "output_type": "execute_result"
    }
   ],
   "source": [
    "# add new column 'sex' with value 'F'\n",
    "add_col(original_diabetes_copy,'sex','F')\n",
    "original_diabetes_copy.head()"
   ]
  },
  {
   "cell_type": "markdown",
   "id": "08cb0011",
   "metadata": {},
   "source": [
    "### Dataset 2. Cardiovascular Study Dataset"
   ]
  },
  {
   "cell_type": "markdown",
   "id": "56d20b57",
   "metadata": {},
   "source": [
    "The dataset is from an ongoing cardiovascular study on residents of the town of Framingham, Massachusetts. The dataset provides the patients’ information. It includes 3390 records and 15 attributes."
   ]
  },
  {
   "cell_type": "code",
   "execution_count": 1504,
   "id": "cd6a55ea",
   "metadata": {},
   "outputs": [
    {
     "data": {
      "text/html": [
       "<div>\n",
       "<style scoped>\n",
       "    .dataframe tbody tr th:only-of-type {\n",
       "        vertical-align: middle;\n",
       "    }\n",
       "\n",
       "    .dataframe tbody tr th {\n",
       "        vertical-align: top;\n",
       "    }\n",
       "\n",
       "    .dataframe thead th {\n",
       "        text-align: right;\n",
       "    }\n",
       "</style>\n",
       "<table border=\"1\" class=\"dataframe\">\n",
       "  <thead>\n",
       "    <tr style=\"text-align: right;\">\n",
       "      <th></th>\n",
       "      <th>id</th>\n",
       "      <th>age</th>\n",
       "      <th>education</th>\n",
       "      <th>sex</th>\n",
       "      <th>is_smoking</th>\n",
       "      <th>cigsPerDay</th>\n",
       "      <th>BPMeds</th>\n",
       "      <th>prevalentStroke</th>\n",
       "      <th>prevalentHyp</th>\n",
       "      <th>diabetes</th>\n",
       "      <th>totChol</th>\n",
       "      <th>sysBP</th>\n",
       "      <th>diaBP</th>\n",
       "      <th>BMI</th>\n",
       "      <th>heartRate</th>\n",
       "      <th>glucose</th>\n",
       "      <th>TenYearCHD</th>\n",
       "    </tr>\n",
       "  </thead>\n",
       "  <tbody>\n",
       "    <tr>\n",
       "      <th>0</th>\n",
       "      <td>0</td>\n",
       "      <td>64</td>\n",
       "      <td>2.0</td>\n",
       "      <td>F</td>\n",
       "      <td>YES</td>\n",
       "      <td>3.0</td>\n",
       "      <td>0.0</td>\n",
       "      <td>0</td>\n",
       "      <td>0</td>\n",
       "      <td>0</td>\n",
       "      <td>221.0</td>\n",
       "      <td>148.0</td>\n",
       "      <td>85.0</td>\n",
       "      <td>NaN</td>\n",
       "      <td>90.0</td>\n",
       "      <td>80.0</td>\n",
       "      <td>1</td>\n",
       "    </tr>\n",
       "    <tr>\n",
       "      <th>1</th>\n",
       "      <td>1</td>\n",
       "      <td>36</td>\n",
       "      <td>4.0</td>\n",
       "      <td>M</td>\n",
       "      <td>NO</td>\n",
       "      <td>0.0</td>\n",
       "      <td>0.0</td>\n",
       "      <td>0</td>\n",
       "      <td>1</td>\n",
       "      <td>0</td>\n",
       "      <td>212.0</td>\n",
       "      <td>168.0</td>\n",
       "      <td>98.0</td>\n",
       "      <td>29.77</td>\n",
       "      <td>72.0</td>\n",
       "      <td>75.0</td>\n",
       "      <td>0</td>\n",
       "    </tr>\n",
       "    <tr>\n",
       "      <th>2</th>\n",
       "      <td>2</td>\n",
       "      <td>46</td>\n",
       "      <td>1.0</td>\n",
       "      <td>F</td>\n",
       "      <td>YES</td>\n",
       "      <td>10.0</td>\n",
       "      <td>0.0</td>\n",
       "      <td>0</td>\n",
       "      <td>0</td>\n",
       "      <td>0</td>\n",
       "      <td>250.0</td>\n",
       "      <td>116.0</td>\n",
       "      <td>71.0</td>\n",
       "      <td>20.35</td>\n",
       "      <td>88.0</td>\n",
       "      <td>94.0</td>\n",
       "      <td>0</td>\n",
       "    </tr>\n",
       "    <tr>\n",
       "      <th>3</th>\n",
       "      <td>3</td>\n",
       "      <td>50</td>\n",
       "      <td>1.0</td>\n",
       "      <td>M</td>\n",
       "      <td>YES</td>\n",
       "      <td>20.0</td>\n",
       "      <td>0.0</td>\n",
       "      <td>0</td>\n",
       "      <td>1</td>\n",
       "      <td>0</td>\n",
       "      <td>233.0</td>\n",
       "      <td>158.0</td>\n",
       "      <td>88.0</td>\n",
       "      <td>28.26</td>\n",
       "      <td>68.0</td>\n",
       "      <td>94.0</td>\n",
       "      <td>1</td>\n",
       "    </tr>\n",
       "    <tr>\n",
       "      <th>4</th>\n",
       "      <td>4</td>\n",
       "      <td>64</td>\n",
       "      <td>1.0</td>\n",
       "      <td>F</td>\n",
       "      <td>YES</td>\n",
       "      <td>30.0</td>\n",
       "      <td>0.0</td>\n",
       "      <td>0</td>\n",
       "      <td>0</td>\n",
       "      <td>0</td>\n",
       "      <td>241.0</td>\n",
       "      <td>136.5</td>\n",
       "      <td>85.0</td>\n",
       "      <td>26.42</td>\n",
       "      <td>70.0</td>\n",
       "      <td>77.0</td>\n",
       "      <td>0</td>\n",
       "    </tr>\n",
       "  </tbody>\n",
       "</table>\n",
       "</div>"
      ],
      "text/plain": [
       "   id  age  education sex is_smoking  cigsPerDay  BPMeds  prevalentStroke  \\\n",
       "0   0   64        2.0   F        YES         3.0     0.0                0   \n",
       "1   1   36        4.0   M         NO         0.0     0.0                0   \n",
       "2   2   46        1.0   F        YES        10.0     0.0                0   \n",
       "3   3   50        1.0   M        YES        20.0     0.0                0   \n",
       "4   4   64        1.0   F        YES        30.0     0.0                0   \n",
       "\n",
       "   prevalentHyp  diabetes  totChol  sysBP  diaBP    BMI  heartRate  glucose  \\\n",
       "0             0         0    221.0  148.0   85.0    NaN       90.0     80.0   \n",
       "1             1         0    212.0  168.0   98.0  29.77       72.0     75.0   \n",
       "2             0         0    250.0  116.0   71.0  20.35       88.0     94.0   \n",
       "3             1         0    233.0  158.0   88.0  28.26       68.0     94.0   \n",
       "4             0         0    241.0  136.5   85.0  26.42       70.0     77.0   \n",
       "\n",
       "   TenYearCHD  \n",
       "0           1  \n",
       "1           0  \n",
       "2           0  \n",
       "3           1  \n",
       "4           0  "
      ]
     },
     "execution_count": 1504,
     "metadata": {},
     "output_type": "execute_result"
    }
   ],
   "source": [
    "original_train=pd.read_csv(\"train.csv\")\n",
    "original_train.head()"
   ]
  },
  {
   "cell_type": "code",
   "execution_count": 1505,
   "id": "80145606",
   "metadata": {},
   "outputs": [
    {
     "data": {
      "text/html": [
       "<div>\n",
       "<style scoped>\n",
       "    .dataframe tbody tr th:only-of-type {\n",
       "        vertical-align: middle;\n",
       "    }\n",
       "\n",
       "    .dataframe tbody tr th {\n",
       "        vertical-align: top;\n",
       "    }\n",
       "\n",
       "    .dataframe thead th {\n",
       "        text-align: right;\n",
       "    }\n",
       "</style>\n",
       "<table border=\"1\" class=\"dataframe\">\n",
       "  <thead>\n",
       "    <tr style=\"text-align: right;\">\n",
       "      <th></th>\n",
       "      <th>id</th>\n",
       "      <th>age</th>\n",
       "      <th>education</th>\n",
       "      <th>sex</th>\n",
       "      <th>is_smoking</th>\n",
       "      <th>cigsPerDay</th>\n",
       "      <th>BPMeds</th>\n",
       "      <th>prevalentStroke</th>\n",
       "      <th>prevalentHyp</th>\n",
       "      <th>diabetes</th>\n",
       "      <th>totChol</th>\n",
       "      <th>sysBP</th>\n",
       "      <th>diaBP</th>\n",
       "      <th>BMI</th>\n",
       "      <th>heartRate</th>\n",
       "      <th>glucose</th>\n",
       "    </tr>\n",
       "  </thead>\n",
       "  <tbody>\n",
       "    <tr>\n",
       "      <th>0</th>\n",
       "      <td>3390</td>\n",
       "      <td>43</td>\n",
       "      <td>2.0</td>\n",
       "      <td>M</td>\n",
       "      <td>YES</td>\n",
       "      <td>35.0</td>\n",
       "      <td>0.0</td>\n",
       "      <td>0</td>\n",
       "      <td>0</td>\n",
       "      <td>0</td>\n",
       "      <td>207.0</td>\n",
       "      <td>117.0</td>\n",
       "      <td>65.0</td>\n",
       "      <td>24.42</td>\n",
       "      <td>60.0</td>\n",
       "      <td>100.0</td>\n",
       "    </tr>\n",
       "    <tr>\n",
       "      <th>1</th>\n",
       "      <td>3391</td>\n",
       "      <td>56</td>\n",
       "      <td>3.0</td>\n",
       "      <td>F</td>\n",
       "      <td>NO</td>\n",
       "      <td>0.0</td>\n",
       "      <td>0.0</td>\n",
       "      <td>0</td>\n",
       "      <td>0</td>\n",
       "      <td>0</td>\n",
       "      <td>192.0</td>\n",
       "      <td>122.0</td>\n",
       "      <td>82.5</td>\n",
       "      <td>28.61</td>\n",
       "      <td>68.0</td>\n",
       "      <td>58.0</td>\n",
       "    </tr>\n",
       "    <tr>\n",
       "      <th>2</th>\n",
       "      <td>3392</td>\n",
       "      <td>58</td>\n",
       "      <td>1.0</td>\n",
       "      <td>F</td>\n",
       "      <td>YES</td>\n",
       "      <td>20.0</td>\n",
       "      <td>0.0</td>\n",
       "      <td>0</td>\n",
       "      <td>1</td>\n",
       "      <td>0</td>\n",
       "      <td>260.0</td>\n",
       "      <td>180.0</td>\n",
       "      <td>100.0</td>\n",
       "      <td>25.56</td>\n",
       "      <td>100.0</td>\n",
       "      <td>NaN</td>\n",
       "    </tr>\n",
       "    <tr>\n",
       "      <th>3</th>\n",
       "      <td>3393</td>\n",
       "      <td>47</td>\n",
       "      <td>3.0</td>\n",
       "      <td>F</td>\n",
       "      <td>NO</td>\n",
       "      <td>0.0</td>\n",
       "      <td>0.0</td>\n",
       "      <td>0</td>\n",
       "      <td>0</td>\n",
       "      <td>0</td>\n",
       "      <td>231.0</td>\n",
       "      <td>102.5</td>\n",
       "      <td>66.0</td>\n",
       "      <td>23.40</td>\n",
       "      <td>70.0</td>\n",
       "      <td>78.0</td>\n",
       "    </tr>\n",
       "    <tr>\n",
       "      <th>4</th>\n",
       "      <td>3394</td>\n",
       "      <td>44</td>\n",
       "      <td>1.0</td>\n",
       "      <td>M</td>\n",
       "      <td>NO</td>\n",
       "      <td>0.0</td>\n",
       "      <td>0.0</td>\n",
       "      <td>0</td>\n",
       "      <td>0</td>\n",
       "      <td>0</td>\n",
       "      <td>160.0</td>\n",
       "      <td>118.5</td>\n",
       "      <td>87.0</td>\n",
       "      <td>25.81</td>\n",
       "      <td>54.0</td>\n",
       "      <td>NaN</td>\n",
       "    </tr>\n",
       "  </tbody>\n",
       "</table>\n",
       "</div>"
      ],
      "text/plain": [
       "     id  age  education sex is_smoking  cigsPerDay  BPMeds  prevalentStroke  \\\n",
       "0  3390   43        2.0   M        YES        35.0     0.0                0   \n",
       "1  3391   56        3.0   F         NO         0.0     0.0                0   \n",
       "2  3392   58        1.0   F        YES        20.0     0.0                0   \n",
       "3  3393   47        3.0   F         NO         0.0     0.0                0   \n",
       "4  3394   44        1.0   M         NO         0.0     0.0                0   \n",
       "\n",
       "   prevalentHyp  diabetes  totChol  sysBP  diaBP    BMI  heartRate  glucose  \n",
       "0             0         0    207.0  117.0   65.0  24.42       60.0    100.0  \n",
       "1             0         0    192.0  122.0   82.5  28.61       68.0     58.0  \n",
       "2             1         0    260.0  180.0  100.0  25.56      100.0      NaN  \n",
       "3             0         0    231.0  102.5   66.0  23.40       70.0     78.0  \n",
       "4             0         0    160.0  118.5   87.0  25.81       54.0      NaN  "
      ]
     },
     "execution_count": 1505,
     "metadata": {},
     "output_type": "execute_result"
    }
   ],
   "source": [
    "original_test=pd.read_csv(\"test.csv\")\n",
    "original_test.head()"
   ]
  },
  {
   "cell_type": "code",
   "execution_count": 1506,
   "id": "1e75f427",
   "metadata": {},
   "outputs": [
    {
     "name": "stdout",
     "output_type": "stream",
     "text": [
      "<class 'pandas.core.frame.DataFrame'>\n",
      "RangeIndex: 3390 entries, 0 to 3389\n",
      "Data columns (total 16 columns):\n",
      " #   Column           Non-Null Count  Dtype  \n",
      "---  ------           --------------  -----  \n",
      " 0   age              3390 non-null   int64  \n",
      " 1   education        3303 non-null   float64\n",
      " 2   sex              3390 non-null   object \n",
      " 3   is_smoking       3390 non-null   object \n",
      " 4   cigsPerDay       3368 non-null   float64\n",
      " 5   BPMeds           3346 non-null   float64\n",
      " 6   prevalentStroke  3390 non-null   int64  \n",
      " 7   prevalentHyp     3390 non-null   int64  \n",
      " 8   diabetes         3390 non-null   int64  \n",
      " 9   totChol          3352 non-null   float64\n",
      " 10  sysBP            3390 non-null   float64\n",
      " 11  diaBP            3390 non-null   float64\n",
      " 12  BMI              3376 non-null   float64\n",
      " 13  heartRate        3389 non-null   float64\n",
      " 14  glucose          3086 non-null   float64\n",
      " 15  TenYearCHD       3390 non-null   int64  \n",
      "dtypes: float64(9), int64(5), object(2)\n",
      "memory usage: 423.9+ KB\n"
     ]
    }
   ],
   "source": [
    "original_train=original_train.drop(['id'], axis=1) #drop 'id' like irrelevant feature\n",
    "original_train.info()"
   ]
  },
  {
   "cell_type": "code",
   "execution_count": 1507,
   "id": "de1aa209",
   "metadata": {},
   "outputs": [
    {
     "name": "stdout",
     "output_type": "stream",
     "text": [
      "<class 'pandas.core.frame.DataFrame'>\n",
      "RangeIndex: 848 entries, 0 to 847\n",
      "Data columns (total 15 columns):\n",
      " #   Column           Non-Null Count  Dtype  \n",
      "---  ------           --------------  -----  \n",
      " 0   age              848 non-null    int64  \n",
      " 1   education        830 non-null    float64\n",
      " 2   sex              848 non-null    object \n",
      " 3   is_smoking       848 non-null    object \n",
      " 4   cigsPerDay       841 non-null    float64\n",
      " 5   BPMeds           839 non-null    float64\n",
      " 6   prevalentStroke  848 non-null    int64  \n",
      " 7   prevalentHyp     848 non-null    int64  \n",
      " 8   diabetes         848 non-null    int64  \n",
      " 9   totChol          836 non-null    float64\n",
      " 10  sysBP            848 non-null    float64\n",
      " 11  diaBP            848 non-null    float64\n",
      " 12  BMI              843 non-null    float64\n",
      " 13  heartRate        848 non-null    float64\n",
      " 14  glucose          764 non-null    float64\n",
      "dtypes: float64(9), int64(4), object(2)\n",
      "memory usage: 99.5+ KB\n"
     ]
    }
   ],
   "source": [
    "original_test=original_test.drop(['id'], axis=1) #drop 'id' like irrelevant feature\n",
    "original_test.info()"
   ]
  },
  {
   "cell_type": "markdown",
   "id": "46fc4721",
   "metadata": {},
   "source": [
    "Datasets look like they were split to test and train from the original dataset for Machine Learning purposes.\n",
    "   It is meaningful to concatenate the test and train datasets back to get more data."
   ]
  },
  {
   "cell_type": "code",
   "execution_count": 1508,
   "id": "1c2b6c6b",
   "metadata": {},
   "outputs": [
    {
     "data": {
      "text/html": [
       "<div>\n",
       "<style scoped>\n",
       "    .dataframe tbody tr th:only-of-type {\n",
       "        vertical-align: middle;\n",
       "    }\n",
       "\n",
       "    .dataframe tbody tr th {\n",
       "        vertical-align: top;\n",
       "    }\n",
       "\n",
       "    .dataframe thead th {\n",
       "        text-align: right;\n",
       "    }\n",
       "</style>\n",
       "<table border=\"1\" class=\"dataframe\">\n",
       "  <thead>\n",
       "    <tr style=\"text-align: right;\">\n",
       "      <th></th>\n",
       "      <th>age</th>\n",
       "      <th>education</th>\n",
       "      <th>sex</th>\n",
       "      <th>is_smoking</th>\n",
       "      <th>cigsPerDay</th>\n",
       "      <th>BPMeds</th>\n",
       "      <th>prevalentStroke</th>\n",
       "      <th>prevalentHyp</th>\n",
       "      <th>diabetes</th>\n",
       "      <th>totChol</th>\n",
       "      <th>sysBP</th>\n",
       "      <th>diaBP</th>\n",
       "      <th>BMI</th>\n",
       "      <th>heartRate</th>\n",
       "      <th>glucose</th>\n",
       "    </tr>\n",
       "  </thead>\n",
       "  <tbody>\n",
       "    <tr>\n",
       "      <th>0</th>\n",
       "      <td>43</td>\n",
       "      <td>2.0</td>\n",
       "      <td>M</td>\n",
       "      <td>YES</td>\n",
       "      <td>35.0</td>\n",
       "      <td>0.0</td>\n",
       "      <td>0</td>\n",
       "      <td>0</td>\n",
       "      <td>0</td>\n",
       "      <td>207.0</td>\n",
       "      <td>117.0</td>\n",
       "      <td>65.0</td>\n",
       "      <td>24.42</td>\n",
       "      <td>60.0</td>\n",
       "      <td>100.0</td>\n",
       "    </tr>\n",
       "    <tr>\n",
       "      <th>1</th>\n",
       "      <td>56</td>\n",
       "      <td>3.0</td>\n",
       "      <td>F</td>\n",
       "      <td>NO</td>\n",
       "      <td>0.0</td>\n",
       "      <td>0.0</td>\n",
       "      <td>0</td>\n",
       "      <td>0</td>\n",
       "      <td>0</td>\n",
       "      <td>192.0</td>\n",
       "      <td>122.0</td>\n",
       "      <td>82.5</td>\n",
       "      <td>28.61</td>\n",
       "      <td>68.0</td>\n",
       "      <td>58.0</td>\n",
       "    </tr>\n",
       "    <tr>\n",
       "      <th>2</th>\n",
       "      <td>58</td>\n",
       "      <td>1.0</td>\n",
       "      <td>F</td>\n",
       "      <td>YES</td>\n",
       "      <td>20.0</td>\n",
       "      <td>0.0</td>\n",
       "      <td>0</td>\n",
       "      <td>1</td>\n",
       "      <td>0</td>\n",
       "      <td>260.0</td>\n",
       "      <td>180.0</td>\n",
       "      <td>100.0</td>\n",
       "      <td>25.56</td>\n",
       "      <td>100.0</td>\n",
       "      <td>NaN</td>\n",
       "    </tr>\n",
       "    <tr>\n",
       "      <th>3</th>\n",
       "      <td>47</td>\n",
       "      <td>3.0</td>\n",
       "      <td>F</td>\n",
       "      <td>NO</td>\n",
       "      <td>0.0</td>\n",
       "      <td>0.0</td>\n",
       "      <td>0</td>\n",
       "      <td>0</td>\n",
       "      <td>0</td>\n",
       "      <td>231.0</td>\n",
       "      <td>102.5</td>\n",
       "      <td>66.0</td>\n",
       "      <td>23.40</td>\n",
       "      <td>70.0</td>\n",
       "      <td>78.0</td>\n",
       "    </tr>\n",
       "    <tr>\n",
       "      <th>4</th>\n",
       "      <td>44</td>\n",
       "      <td>1.0</td>\n",
       "      <td>M</td>\n",
       "      <td>NO</td>\n",
       "      <td>0.0</td>\n",
       "      <td>0.0</td>\n",
       "      <td>0</td>\n",
       "      <td>0</td>\n",
       "      <td>0</td>\n",
       "      <td>160.0</td>\n",
       "      <td>118.5</td>\n",
       "      <td>87.0</td>\n",
       "      <td>25.81</td>\n",
       "      <td>54.0</td>\n",
       "      <td>NaN</td>\n",
       "    </tr>\n",
       "  </tbody>\n",
       "</table>\n",
       "</div>"
      ],
      "text/plain": [
       "   age  education sex is_smoking  cigsPerDay  BPMeds  prevalentStroke  \\\n",
       "0   43        2.0   M        YES        35.0     0.0                0   \n",
       "1   56        3.0   F         NO         0.0     0.0                0   \n",
       "2   58        1.0   F        YES        20.0     0.0                0   \n",
       "3   47        3.0   F         NO         0.0     0.0                0   \n",
       "4   44        1.0   M         NO         0.0     0.0                0   \n",
       "\n",
       "   prevalentHyp  diabetes  totChol  sysBP  diaBP    BMI  heartRate  glucose  \n",
       "0             0         0    207.0  117.0   65.0  24.42       60.0    100.0  \n",
       "1             0         0    192.0  122.0   82.5  28.61       68.0     58.0  \n",
       "2             1         0    260.0  180.0  100.0  25.56      100.0      NaN  \n",
       "3             0         0    231.0  102.5   66.0  23.40       70.0     78.0  \n",
       "4             0         0    160.0  118.5   87.0  25.81       54.0      NaN  "
      ]
     },
     "execution_count": 1508,
     "metadata": {},
     "output_type": "execute_result"
    }
   ],
   "source": [
    "# Concatenation of train and test datasets\n",
    "df_prep = data_concat(original_test,original_train)\n",
    "df_prep=df_prep.drop(['TenYearCHD'], axis=1) #drop 'TenYearCHD' as irrelevant for PJ\n",
    "df_prep.head()"
   ]
  },
  {
   "cell_type": "code",
   "execution_count": 1509,
   "id": "b90d14b4",
   "metadata": {},
   "outputs": [
    {
     "name": "stdout",
     "output_type": "stream",
     "text": [
      "<class 'pandas.core.frame.DataFrame'>\n",
      "Int64Index: 4238 entries, 0 to 3389\n",
      "Data columns (total 15 columns):\n",
      " #   Column           Non-Null Count  Dtype  \n",
      "---  ------           --------------  -----  \n",
      " 0   age              4238 non-null   int64  \n",
      " 1   education        4133 non-null   float64\n",
      " 2   sex              4238 non-null   object \n",
      " 3   is_smoking       4238 non-null   object \n",
      " 4   cigsPerDay       4209 non-null   float64\n",
      " 5   BPMeds           4185 non-null   float64\n",
      " 6   prevalentStroke  4238 non-null   int64  \n",
      " 7   prevalentHyp     4238 non-null   int64  \n",
      " 8   diabetes         4238 non-null   int64  \n",
      " 9   totChol          4188 non-null   float64\n",
      " 10  sysBP            4238 non-null   float64\n",
      " 11  diaBP            4238 non-null   float64\n",
      " 12  BMI              4219 non-null   float64\n",
      " 13  heartRate        4237 non-null   float64\n",
      " 14  glucose          3850 non-null   float64\n",
      "dtypes: float64(9), int64(4), object(2)\n",
      "memory usage: 529.8+ KB\n"
     ]
    }
   ],
   "source": [
    "# Data info\n",
    "df_prep.info()"
   ]
  },
  {
   "cell_type": "markdown",
   "id": "f065b3d7",
   "metadata": {},
   "source": [
    "#### Data describtion:\n",
    " \n",
    "Sex:      male or female(\"M\" or \"F\")\\\n",
    "Age:      Age of the patient;(Continuous - Although the recorded ages have been truncated to whole numbers, the concept of age is continuous)\\\n",
    "is_smoking:   whether or not the patient is a current smoker (\"YES\" or \"NO\")\\\n",
    "Cigs Per Day: the number of cigarettes that the person smoked on average in one day\\\n",
    "BP Meds:  whether or not the patient was on blood pressure medication (Nominal)\\\n",
    "Prevalent Stroke: whether or not the patient had previously had a stroke (Nominal)\\\n",
    "Prevalent Hyp: whether or not the patient was hypertensive (Nominal)\\\n",
    "Diabetes: whether or not the patient had diabetes (Nominal)\\\n",
    "Tot Chol: total cholesterol level (Continuous)\\\n",
    "Sys BP:   systolic blood pressure (Continuous)\\\n",
    "Dia BP:   diastolic blood pressure (Continuous)\\\n",
    "BMI:      Body Mass Index (Continuous)\\\n",
    "Heart Rate: heart rate\\\n",
    "Glucose: glucose level (Continuous)\\\n",
    "Predicted 10 year risk of coronary heart disease CHD(binary: “1”, means “Yes”, “0” means “No”)\\"
   ]
  },
  {
   "cell_type": "code",
   "execution_count": 1510,
   "id": "b3e90ed7",
   "metadata": {},
   "outputs": [
    {
     "data": {
      "text/html": [
       "<div>\n",
       "<style scoped>\n",
       "    .dataframe tbody tr th:only-of-type {\n",
       "        vertical-align: middle;\n",
       "    }\n",
       "\n",
       "    .dataframe tbody tr th {\n",
       "        vertical-align: top;\n",
       "    }\n",
       "\n",
       "    .dataframe thead th {\n",
       "        text-align: right;\n",
       "    }\n",
       "</style>\n",
       "<table border=\"1\" class=\"dataframe\">\n",
       "  <thead>\n",
       "    <tr style=\"text-align: right;\">\n",
       "      <th></th>\n",
       "      <th>age</th>\n",
       "      <th>education</th>\n",
       "      <th>sex</th>\n",
       "      <th>is_smoking</th>\n",
       "      <th>cigsPerDay</th>\n",
       "      <th>BPMeds</th>\n",
       "      <th>prevalentStroke</th>\n",
       "      <th>prevalentHyp</th>\n",
       "      <th>diabetes</th>\n",
       "      <th>totChol</th>\n",
       "      <th>sysBP</th>\n",
       "      <th>diaBP</th>\n",
       "      <th>BMI</th>\n",
       "      <th>heartRate</th>\n",
       "      <th>glucose</th>\n",
       "    </tr>\n",
       "  </thead>\n",
       "  <tbody>\n",
       "    <tr>\n",
       "      <th>count</th>\n",
       "      <td>4238.000000</td>\n",
       "      <td>4133.000000</td>\n",
       "      <td>4238</td>\n",
       "      <td>4238</td>\n",
       "      <td>4209.000000</td>\n",
       "      <td>4185.000000</td>\n",
       "      <td>4238.000000</td>\n",
       "      <td>4238.000000</td>\n",
       "      <td>4238.000000</td>\n",
       "      <td>4188.000000</td>\n",
       "      <td>4238.000000</td>\n",
       "      <td>4238.000000</td>\n",
       "      <td>4219.000000</td>\n",
       "      <td>4237.000000</td>\n",
       "      <td>3850.000000</td>\n",
       "    </tr>\n",
       "    <tr>\n",
       "      <th>unique</th>\n",
       "      <td>NaN</td>\n",
       "      <td>NaN</td>\n",
       "      <td>2</td>\n",
       "      <td>2</td>\n",
       "      <td>NaN</td>\n",
       "      <td>NaN</td>\n",
       "      <td>NaN</td>\n",
       "      <td>NaN</td>\n",
       "      <td>NaN</td>\n",
       "      <td>NaN</td>\n",
       "      <td>NaN</td>\n",
       "      <td>NaN</td>\n",
       "      <td>NaN</td>\n",
       "      <td>NaN</td>\n",
       "      <td>NaN</td>\n",
       "    </tr>\n",
       "    <tr>\n",
       "      <th>top</th>\n",
       "      <td>NaN</td>\n",
       "      <td>NaN</td>\n",
       "      <td>F</td>\n",
       "      <td>NO</td>\n",
       "      <td>NaN</td>\n",
       "      <td>NaN</td>\n",
       "      <td>NaN</td>\n",
       "      <td>NaN</td>\n",
       "      <td>NaN</td>\n",
       "      <td>NaN</td>\n",
       "      <td>NaN</td>\n",
       "      <td>NaN</td>\n",
       "      <td>NaN</td>\n",
       "      <td>NaN</td>\n",
       "      <td>NaN</td>\n",
       "    </tr>\n",
       "    <tr>\n",
       "      <th>freq</th>\n",
       "      <td>NaN</td>\n",
       "      <td>NaN</td>\n",
       "      <td>2419</td>\n",
       "      <td>2144</td>\n",
       "      <td>NaN</td>\n",
       "      <td>NaN</td>\n",
       "      <td>NaN</td>\n",
       "      <td>NaN</td>\n",
       "      <td>NaN</td>\n",
       "      <td>NaN</td>\n",
       "      <td>NaN</td>\n",
       "      <td>NaN</td>\n",
       "      <td>NaN</td>\n",
       "      <td>NaN</td>\n",
       "      <td>NaN</td>\n",
       "    </tr>\n",
       "    <tr>\n",
       "      <th>mean</th>\n",
       "      <td>49.584946</td>\n",
       "      <td>1.978950</td>\n",
       "      <td>NaN</td>\n",
       "      <td>NaN</td>\n",
       "      <td>9.003089</td>\n",
       "      <td>0.029630</td>\n",
       "      <td>0.005899</td>\n",
       "      <td>0.310524</td>\n",
       "      <td>0.025720</td>\n",
       "      <td>236.721585</td>\n",
       "      <td>132.352407</td>\n",
       "      <td>82.893464</td>\n",
       "      <td>25.802008</td>\n",
       "      <td>75.878924</td>\n",
       "      <td>81.966753</td>\n",
       "    </tr>\n",
       "    <tr>\n",
       "      <th>std</th>\n",
       "      <td>8.572160</td>\n",
       "      <td>1.019791</td>\n",
       "      <td>NaN</td>\n",
       "      <td>NaN</td>\n",
       "      <td>11.920094</td>\n",
       "      <td>0.169584</td>\n",
       "      <td>0.076587</td>\n",
       "      <td>0.462763</td>\n",
       "      <td>0.158316</td>\n",
       "      <td>44.590334</td>\n",
       "      <td>22.038097</td>\n",
       "      <td>11.910850</td>\n",
       "      <td>4.080111</td>\n",
       "      <td>12.026596</td>\n",
       "      <td>23.959998</td>\n",
       "    </tr>\n",
       "    <tr>\n",
       "      <th>min</th>\n",
       "      <td>32.000000</td>\n",
       "      <td>1.000000</td>\n",
       "      <td>NaN</td>\n",
       "      <td>NaN</td>\n",
       "      <td>0.000000</td>\n",
       "      <td>0.000000</td>\n",
       "      <td>0.000000</td>\n",
       "      <td>0.000000</td>\n",
       "      <td>0.000000</td>\n",
       "      <td>107.000000</td>\n",
       "      <td>83.500000</td>\n",
       "      <td>48.000000</td>\n",
       "      <td>15.540000</td>\n",
       "      <td>44.000000</td>\n",
       "      <td>40.000000</td>\n",
       "    </tr>\n",
       "    <tr>\n",
       "      <th>25%</th>\n",
       "      <td>42.000000</td>\n",
       "      <td>1.000000</td>\n",
       "      <td>NaN</td>\n",
       "      <td>NaN</td>\n",
       "      <td>0.000000</td>\n",
       "      <td>0.000000</td>\n",
       "      <td>0.000000</td>\n",
       "      <td>0.000000</td>\n",
       "      <td>0.000000</td>\n",
       "      <td>206.000000</td>\n",
       "      <td>117.000000</td>\n",
       "      <td>75.000000</td>\n",
       "      <td>23.070000</td>\n",
       "      <td>68.000000</td>\n",
       "      <td>71.000000</td>\n",
       "    </tr>\n",
       "    <tr>\n",
       "      <th>50%</th>\n",
       "      <td>49.000000</td>\n",
       "      <td>2.000000</td>\n",
       "      <td>NaN</td>\n",
       "      <td>NaN</td>\n",
       "      <td>0.000000</td>\n",
       "      <td>0.000000</td>\n",
       "      <td>0.000000</td>\n",
       "      <td>0.000000</td>\n",
       "      <td>0.000000</td>\n",
       "      <td>234.000000</td>\n",
       "      <td>128.000000</td>\n",
       "      <td>82.000000</td>\n",
       "      <td>25.400000</td>\n",
       "      <td>75.000000</td>\n",
       "      <td>78.000000</td>\n",
       "    </tr>\n",
       "    <tr>\n",
       "      <th>75%</th>\n",
       "      <td>56.000000</td>\n",
       "      <td>3.000000</td>\n",
       "      <td>NaN</td>\n",
       "      <td>NaN</td>\n",
       "      <td>20.000000</td>\n",
       "      <td>0.000000</td>\n",
       "      <td>0.000000</td>\n",
       "      <td>1.000000</td>\n",
       "      <td>0.000000</td>\n",
       "      <td>263.000000</td>\n",
       "      <td>144.000000</td>\n",
       "      <td>89.875000</td>\n",
       "      <td>28.040000</td>\n",
       "      <td>83.000000</td>\n",
       "      <td>87.000000</td>\n",
       "    </tr>\n",
       "    <tr>\n",
       "      <th>max</th>\n",
       "      <td>70.000000</td>\n",
       "      <td>4.000000</td>\n",
       "      <td>NaN</td>\n",
       "      <td>NaN</td>\n",
       "      <td>70.000000</td>\n",
       "      <td>1.000000</td>\n",
       "      <td>1.000000</td>\n",
       "      <td>1.000000</td>\n",
       "      <td>1.000000</td>\n",
       "      <td>696.000000</td>\n",
       "      <td>295.000000</td>\n",
       "      <td>142.500000</td>\n",
       "      <td>56.800000</td>\n",
       "      <td>143.000000</td>\n",
       "      <td>394.000000</td>\n",
       "    </tr>\n",
       "  </tbody>\n",
       "</table>\n",
       "</div>"
      ],
      "text/plain": [
       "                age    education   sex is_smoking   cigsPerDay       BPMeds  \\\n",
       "count   4238.000000  4133.000000  4238       4238  4209.000000  4185.000000   \n",
       "unique          NaN          NaN     2          2          NaN          NaN   \n",
       "top             NaN          NaN     F         NO          NaN          NaN   \n",
       "freq            NaN          NaN  2419       2144          NaN          NaN   \n",
       "mean      49.584946     1.978950   NaN        NaN     9.003089     0.029630   \n",
       "std        8.572160     1.019791   NaN        NaN    11.920094     0.169584   \n",
       "min       32.000000     1.000000   NaN        NaN     0.000000     0.000000   \n",
       "25%       42.000000     1.000000   NaN        NaN     0.000000     0.000000   \n",
       "50%       49.000000     2.000000   NaN        NaN     0.000000     0.000000   \n",
       "75%       56.000000     3.000000   NaN        NaN    20.000000     0.000000   \n",
       "max       70.000000     4.000000   NaN        NaN    70.000000     1.000000   \n",
       "\n",
       "        prevalentStroke  prevalentHyp     diabetes      totChol        sysBP  \\\n",
       "count       4238.000000   4238.000000  4238.000000  4188.000000  4238.000000   \n",
       "unique              NaN           NaN          NaN          NaN          NaN   \n",
       "top                 NaN           NaN          NaN          NaN          NaN   \n",
       "freq                NaN           NaN          NaN          NaN          NaN   \n",
       "mean           0.005899      0.310524     0.025720   236.721585   132.352407   \n",
       "std            0.076587      0.462763     0.158316    44.590334    22.038097   \n",
       "min            0.000000      0.000000     0.000000   107.000000    83.500000   \n",
       "25%            0.000000      0.000000     0.000000   206.000000   117.000000   \n",
       "50%            0.000000      0.000000     0.000000   234.000000   128.000000   \n",
       "75%            0.000000      1.000000     0.000000   263.000000   144.000000   \n",
       "max            1.000000      1.000000     1.000000   696.000000   295.000000   \n",
       "\n",
       "              diaBP          BMI    heartRate      glucose  \n",
       "count   4238.000000  4219.000000  4237.000000  3850.000000  \n",
       "unique          NaN          NaN          NaN          NaN  \n",
       "top             NaN          NaN          NaN          NaN  \n",
       "freq            NaN          NaN          NaN          NaN  \n",
       "mean      82.893464    25.802008    75.878924    81.966753  \n",
       "std       11.910850     4.080111    12.026596    23.959998  \n",
       "min       48.000000    15.540000    44.000000    40.000000  \n",
       "25%       75.000000    23.070000    68.000000    71.000000  \n",
       "50%       82.000000    25.400000    75.000000    78.000000  \n",
       "75%       89.875000    28.040000    83.000000    87.000000  \n",
       "max      142.500000    56.800000   143.000000   394.000000  "
      ]
     },
     "execution_count": 1510,
     "metadata": {},
     "output_type": "execute_result"
    }
   ],
   "source": [
    "# Data describtion\n",
    "df_prep.describe(include='all')"
   ]
  },
  {
   "cell_type": "code",
   "execution_count": 1511,
   "id": "ace94aaa",
   "metadata": {},
   "outputs": [
    {
     "name": "stdout",
     "output_type": "stream",
     "text": [
      "age : 0.00%\n",
      "education : 2.48%\n",
      "sex : 0.00%\n",
      "is_smoking : 0.00%\n",
      "cigsPerDay : 0.68%\n",
      "BPMeds : 1.25%\n",
      "prevalentStroke : 0.00%\n",
      "prevalentHyp : 0.00%\n",
      "diabetes : 0.00%\n",
      "totChol : 1.18%\n",
      "sysBP : 0.00%\n",
      "diaBP : 0.00%\n",
      "BMI : 0.45%\n",
      "heartRate : 0.02%\n",
      "glucose : 9.16%\n"
     ]
    }
   ],
   "source": [
    "# Checking for missing value\n",
    "isna_percent_col(df_prep)"
   ]
  },
  {
   "cell_type": "markdown",
   "id": "7af72748",
   "metadata": {},
   "source": [
    "The columns \"education\" and \"glucose\" have the most missing values. We need to check the statistics of these columns.\n",
    "   While the remaining missing values can be replaced with the median."
   ]
  },
  {
   "cell_type": "code",
   "execution_count": 1512,
   "id": "0351936e",
   "metadata": {},
   "outputs": [],
   "source": [
    "# create copy of df_prep for data cleaning\n",
    "df_copy = df_prep.copy()"
   ]
  },
  {
   "cell_type": "code",
   "execution_count": 1513,
   "id": "91d1e212",
   "metadata": {},
   "outputs": [],
   "source": [
    "# Because the mean and median of \"glucose\" are nearby, take the median of values\n",
    "fill_na_median(df_copy,'glucose')"
   ]
  },
  {
   "cell_type": "code",
   "execution_count": 1514,
   "id": "8f43ac73",
   "metadata": {},
   "outputs": [],
   "source": [
    "# Because values of \"education\" are integers from 1 to 4, take mode of values\n",
    "fill_na_mode(df_copy,'education')"
   ]
  },
  {
   "cell_type": "code",
   "execution_count": 1515,
   "id": "f956588c",
   "metadata": {},
   "outputs": [],
   "source": [
    "# fill the remaining missing values by median\n",
    "fill_na_median(df_copy,'BPMeds')\n",
    "fill_na_median(df_copy,'totChol')\n",
    "fill_na_median(df_copy,'cigsPerDay')\n",
    "fill_na_median(df_copy,'BMI')\n",
    "fill_na_median(df_copy,'heartRate')"
   ]
  },
  {
   "cell_type": "code",
   "execution_count": 1516,
   "id": "ae33890a",
   "metadata": {},
   "outputs": [
    {
     "name": "stdout",
     "output_type": "stream",
     "text": [
      "age : 0.00%\n",
      "education : 0.00%\n",
      "sex : 0.00%\n",
      "is_smoking : 0.00%\n",
      "cigsPerDay : 0.00%\n",
      "BPMeds : 0.00%\n",
      "prevalentStroke : 0.00%\n",
      "prevalentHyp : 0.00%\n",
      "diabetes : 0.00%\n",
      "totChol : 0.00%\n",
      "sysBP : 0.00%\n",
      "diaBP : 0.00%\n",
      "BMI : 0.00%\n",
      "heartRate : 0.00%\n",
      "glucose : 0.00%\n"
     ]
    }
   ],
   "source": [
    "# Checking for missing value\n",
    "isna_percent_col(df_copy)"
   ]
  },
  {
   "cell_type": "code",
   "execution_count": 1517,
   "id": "a6210c3b",
   "metadata": {},
   "outputs": [
    {
     "data": {
      "text/plain": [
       "0"
      ]
     },
     "execution_count": 1517,
     "metadata": {},
     "output_type": "execute_result"
    }
   ],
   "source": [
    "# Check duplicated rows\n",
    "df_copy.duplicated().sum()"
   ]
  },
  {
   "cell_type": "code",
   "execution_count": 1518,
   "id": "a5755c72",
   "metadata": {},
   "outputs": [
    {
     "data": {
      "text/plain": [
       "age                   0\n",
       "education             0\n",
       "sex                   0\n",
       "is_smoking            0\n",
       "cigsPerDay         2173\n",
       "BPMeds             4114\n",
       "prevalentStroke    4213\n",
       "prevalentHyp       2922\n",
       "diabetes           4129\n",
       "totChol               0\n",
       "sysBP                 0\n",
       "diaBP                 0\n",
       "BMI                   0\n",
       "heartRate             0\n",
       "glucose               0\n",
       "dtype: int64"
      ]
     },
     "execution_count": 1518,
     "metadata": {},
     "output_type": "execute_result"
    }
   ],
   "source": [
    "# Check for null values\n",
    "(df_copy == 0).sum()"
   ]
  },
  {
   "cell_type": "code",
   "execution_count": 1519,
   "id": "0b50b885",
   "metadata": {},
   "outputs": [
    {
     "name": "stdout",
     "output_type": "stream",
     "text": [
      "age : 0.00%\n",
      "education : 0.00%\n",
      "sex : 0.00%\n",
      "is_smoking : 0.00%\n",
      "cigsPerDay : 51.27%\n",
      "BPMeds : 97.07%\n",
      "prevalentStroke : 99.41%\n",
      "prevalentHyp : 68.95%\n",
      "diabetes : 97.43%\n",
      "totChol : 0.00%\n",
      "sysBP : 0.00%\n",
      "diaBP : 0.00%\n",
      "BMI : 0.00%\n",
      "heartRate : 0.00%\n",
      "glucose : 0.00%\n"
     ]
    }
   ],
   "source": [
    "null_percent_col(df_copy)"
   ]
  },
  {
   "cell_type": "markdown",
   "id": "83d1f9bc",
   "metadata": {},
   "source": [
    "#### Data analysis"
   ]
  },
  {
   "cell_type": "markdown",
   "id": "a99adb79",
   "metadata": {},
   "source": [
    "##### Search for correlation between database features"
   ]
  },
  {
   "cell_type": "code",
   "execution_count": 1520,
   "id": "199ae496",
   "metadata": {
    "scrolled": true
   },
   "outputs": [
    {
     "data": {
      "image/png": "[encoded data removed]",
      "text/plain": [
       "<Figure size 1440x1080 with 2 Axes>"
      ]
     },
     "metadata": {
      "needs_background": "light"
     },
     "output_type": "display_data"
    }
   ],
   "source": [
    "# Check data correlation\n",
    "corr_matrix(df_copy,'Data correlation matrix')"
   ]
  },
  {
   "cell_type": "code",
   "execution_count": 1521,
   "id": "c7a38524",
   "metadata": {},
   "outputs": [
    {
     "data": {
      "image/png": "[encoded data removed]",
      "text/plain": [
       "<Figure size 432x288 with 1 Axes>"
      ]
     },
     "metadata": {},
     "output_type": "display_data"
    }
   ],
   "source": [
    "# Diebetes distribution on pie plot\n",
    "diabetes_list = ['no diabetes','diagnosed diabetes']\n",
    "data_pie_plot_labels(df_copy, 'diabetes', diabetes_list,'Diabetes distribution in Dataset 2')"
   ]
  },
  {
   "cell_type": "markdown",
   "id": "e8e532e9",
   "metadata": {},
   "source": [
    "#### Conclusion: Dataset 2 is not very informative regarding the diabetes indicators - the strong direct correlation between hight glucose level and diabetes can be observed only, which is clear."
   ]
  },
  {
   "cell_type": "markdown",
   "id": "14ef20dc",
   "metadata": {},
   "source": [
    "### Merge of Dataset 1 and Dataset 2 for the data analysis purpose."
   ]
  },
  {
   "cell_type": "code",
   "execution_count": 1522,
   "id": "e80091e2",
   "metadata": {},
   "outputs": [
    {
     "data": {
      "text/html": [
       "<div>\n",
       "<style scoped>\n",
       "    .dataframe tbody tr th:only-of-type {\n",
       "        vertical-align: middle;\n",
       "    }\n",
       "\n",
       "    .dataframe tbody tr th {\n",
       "        vertical-align: top;\n",
       "    }\n",
       "\n",
       "    .dataframe thead th {\n",
       "        text-align: right;\n",
       "    }\n",
       "</style>\n",
       "<table border=\"1\" class=\"dataframe\">\n",
       "  <thead>\n",
       "    <tr style=\"text-align: right;\">\n",
       "      <th></th>\n",
       "      <th>Pregnancies</th>\n",
       "      <th>glucose</th>\n",
       "      <th>diaBP</th>\n",
       "      <th>SkinThickness</th>\n",
       "      <th>Insulin</th>\n",
       "      <th>BMI</th>\n",
       "      <th>DiabetesPedigreeFunction</th>\n",
       "      <th>age</th>\n",
       "      <th>diabetes</th>\n",
       "      <th>sex</th>\n",
       "    </tr>\n",
       "  </thead>\n",
       "  <tbody>\n",
       "    <tr>\n",
       "      <th>0</th>\n",
       "      <td>6</td>\n",
       "      <td>148.0</td>\n",
       "      <td>72.0</td>\n",
       "      <td>35.0</td>\n",
       "      <td>125.0</td>\n",
       "      <td>33.6</td>\n",
       "      <td>0.627</td>\n",
       "      <td>50</td>\n",
       "      <td>1</td>\n",
       "      <td>F</td>\n",
       "    </tr>\n",
       "    <tr>\n",
       "      <th>1</th>\n",
       "      <td>1</td>\n",
       "      <td>85.0</td>\n",
       "      <td>66.0</td>\n",
       "      <td>29.0</td>\n",
       "      <td>125.0</td>\n",
       "      <td>26.6</td>\n",
       "      <td>0.351</td>\n",
       "      <td>31</td>\n",
       "      <td>0</td>\n",
       "      <td>F</td>\n",
       "    </tr>\n",
       "    <tr>\n",
       "      <th>2</th>\n",
       "      <td>8</td>\n",
       "      <td>183.0</td>\n",
       "      <td>64.0</td>\n",
       "      <td>29.0</td>\n",
       "      <td>125.0</td>\n",
       "      <td>23.3</td>\n",
       "      <td>0.672</td>\n",
       "      <td>32</td>\n",
       "      <td>1</td>\n",
       "      <td>F</td>\n",
       "    </tr>\n",
       "    <tr>\n",
       "      <th>3</th>\n",
       "      <td>1</td>\n",
       "      <td>89.0</td>\n",
       "      <td>66.0</td>\n",
       "      <td>23.0</td>\n",
       "      <td>94.0</td>\n",
       "      <td>28.1</td>\n",
       "      <td>0.167</td>\n",
       "      <td>21</td>\n",
       "      <td>0</td>\n",
       "      <td>F</td>\n",
       "    </tr>\n",
       "    <tr>\n",
       "      <th>4</th>\n",
       "      <td>0</td>\n",
       "      <td>137.0</td>\n",
       "      <td>40.0</td>\n",
       "      <td>35.0</td>\n",
       "      <td>168.0</td>\n",
       "      <td>43.1</td>\n",
       "      <td>2.288</td>\n",
       "      <td>33</td>\n",
       "      <td>1</td>\n",
       "      <td>F</td>\n",
       "    </tr>\n",
       "  </tbody>\n",
       "</table>\n",
       "</div>"
      ],
      "text/plain": [
       "   Pregnancies  glucose  diaBP  SkinThickness  Insulin   BMI  \\\n",
       "0            6    148.0   72.0           35.0    125.0  33.6   \n",
       "1            1     85.0   66.0           29.0    125.0  26.6   \n",
       "2            8    183.0   64.0           29.0    125.0  23.3   \n",
       "3            1     89.0   66.0           23.0     94.0  28.1   \n",
       "4            0    137.0   40.0           35.0    168.0  43.1   \n",
       "\n",
       "   DiabetesPedigreeFunction  age  diabetes sex  \n",
       "0                     0.627   50         1   F  \n",
       "1                     0.351   31         0   F  \n",
       "2                     0.672   32         1   F  \n",
       "3                     0.167   21         0   F  \n",
       "4                     2.288   33         1   F  "
      ]
     },
     "execution_count": 1522,
     "metadata": {},
     "output_type": "execute_result"
    }
   ],
   "source": [
    "original_diabetes_copy.head()"
   ]
  },
  {
   "cell_type": "code",
   "execution_count": 1523,
   "id": "b66b2d98",
   "metadata": {},
   "outputs": [
    {
     "data": {
      "text/html": [
       "<div>\n",
       "<style scoped>\n",
       "    .dataframe tbody tr th:only-of-type {\n",
       "        vertical-align: middle;\n",
       "    }\n",
       "\n",
       "    .dataframe tbody tr th {\n",
       "        vertical-align: top;\n",
       "    }\n",
       "\n",
       "    .dataframe thead th {\n",
       "        text-align: right;\n",
       "    }\n",
       "</style>\n",
       "<table border=\"1\" class=\"dataframe\">\n",
       "  <thead>\n",
       "    <tr style=\"text-align: right;\">\n",
       "      <th></th>\n",
       "      <th>age</th>\n",
       "      <th>education</th>\n",
       "      <th>sex</th>\n",
       "      <th>is_smoking</th>\n",
       "      <th>cigsPerDay</th>\n",
       "      <th>BPMeds</th>\n",
       "      <th>prevalentStroke</th>\n",
       "      <th>prevalentHyp</th>\n",
       "      <th>diabetes</th>\n",
       "      <th>totChol</th>\n",
       "      <th>sysBP</th>\n",
       "      <th>diaBP</th>\n",
       "      <th>BMI</th>\n",
       "      <th>heartRate</th>\n",
       "      <th>glucose</th>\n",
       "    </tr>\n",
       "  </thead>\n",
       "  <tbody>\n",
       "    <tr>\n",
       "      <th>0</th>\n",
       "      <td>43</td>\n",
       "      <td>2.0</td>\n",
       "      <td>M</td>\n",
       "      <td>YES</td>\n",
       "      <td>35.0</td>\n",
       "      <td>0.0</td>\n",
       "      <td>0</td>\n",
       "      <td>0</td>\n",
       "      <td>0</td>\n",
       "      <td>207.0</td>\n",
       "      <td>117.0</td>\n",
       "      <td>65.0</td>\n",
       "      <td>24.42</td>\n",
       "      <td>60.0</td>\n",
       "      <td>100.0</td>\n",
       "    </tr>\n",
       "    <tr>\n",
       "      <th>1</th>\n",
       "      <td>56</td>\n",
       "      <td>3.0</td>\n",
       "      <td>F</td>\n",
       "      <td>NO</td>\n",
       "      <td>0.0</td>\n",
       "      <td>0.0</td>\n",
       "      <td>0</td>\n",
       "      <td>0</td>\n",
       "      <td>0</td>\n",
       "      <td>192.0</td>\n",
       "      <td>122.0</td>\n",
       "      <td>82.5</td>\n",
       "      <td>28.61</td>\n",
       "      <td>68.0</td>\n",
       "      <td>58.0</td>\n",
       "    </tr>\n",
       "    <tr>\n",
       "      <th>2</th>\n",
       "      <td>58</td>\n",
       "      <td>1.0</td>\n",
       "      <td>F</td>\n",
       "      <td>YES</td>\n",
       "      <td>20.0</td>\n",
       "      <td>0.0</td>\n",
       "      <td>0</td>\n",
       "      <td>1</td>\n",
       "      <td>0</td>\n",
       "      <td>260.0</td>\n",
       "      <td>180.0</td>\n",
       "      <td>100.0</td>\n",
       "      <td>25.56</td>\n",
       "      <td>100.0</td>\n",
       "      <td>78.0</td>\n",
       "    </tr>\n",
       "    <tr>\n",
       "      <th>3</th>\n",
       "      <td>47</td>\n",
       "      <td>3.0</td>\n",
       "      <td>F</td>\n",
       "      <td>NO</td>\n",
       "      <td>0.0</td>\n",
       "      <td>0.0</td>\n",
       "      <td>0</td>\n",
       "      <td>0</td>\n",
       "      <td>0</td>\n",
       "      <td>231.0</td>\n",
       "      <td>102.5</td>\n",
       "      <td>66.0</td>\n",
       "      <td>23.40</td>\n",
       "      <td>70.0</td>\n",
       "      <td>78.0</td>\n",
       "    </tr>\n",
       "    <tr>\n",
       "      <th>4</th>\n",
       "      <td>44</td>\n",
       "      <td>1.0</td>\n",
       "      <td>M</td>\n",
       "      <td>NO</td>\n",
       "      <td>0.0</td>\n",
       "      <td>0.0</td>\n",
       "      <td>0</td>\n",
       "      <td>0</td>\n",
       "      <td>0</td>\n",
       "      <td>160.0</td>\n",
       "      <td>118.5</td>\n",
       "      <td>87.0</td>\n",
       "      <td>25.81</td>\n",
       "      <td>54.0</td>\n",
       "      <td>78.0</td>\n",
       "    </tr>\n",
       "  </tbody>\n",
       "</table>\n",
       "</div>"
      ],
      "text/plain": [
       "   age  education sex is_smoking  cigsPerDay  BPMeds  prevalentStroke  \\\n",
       "0   43        2.0   M        YES        35.0     0.0                0   \n",
       "1   56        3.0   F         NO         0.0     0.0                0   \n",
       "2   58        1.0   F        YES        20.0     0.0                0   \n",
       "3   47        3.0   F         NO         0.0     0.0                0   \n",
       "4   44        1.0   M         NO         0.0     0.0                0   \n",
       "\n",
       "   prevalentHyp  diabetes  totChol  sysBP  diaBP    BMI  heartRate  glucose  \n",
       "0             0         0    207.0  117.0   65.0  24.42       60.0    100.0  \n",
       "1             0         0    192.0  122.0   82.5  28.61       68.0     58.0  \n",
       "2             1         0    260.0  180.0  100.0  25.56      100.0     78.0  \n",
       "3             0         0    231.0  102.5   66.0  23.40       70.0     78.0  \n",
       "4             0         0    160.0  118.5   87.0  25.81       54.0     78.0  "
      ]
     },
     "execution_count": 1523,
     "metadata": {},
     "output_type": "execute_result"
    }
   ],
   "source": [
    "df_copy.head()"
   ]
  },
  {
   "cell_type": "markdown",
   "id": "73cd1455",
   "metadata": {},
   "source": [
    "Dataset 1 and Dataset 2 have the identical columns data: 'age','sex','diaBP','BMI','glucose' and 'diabetes'. Merging is performed according to the specified columns."
   ]
  },
  {
   "cell_type": "code",
   "execution_count": 1524,
   "id": "43ec6b6a",
   "metadata": {},
   "outputs": [
    {
     "data": {
      "text/html": [
       "<div>\n",
       "<style scoped>\n",
       "    .dataframe tbody tr th:only-of-type {\n",
       "        vertical-align: middle;\n",
       "    }\n",
       "\n",
       "    .dataframe tbody tr th {\n",
       "        vertical-align: top;\n",
       "    }\n",
       "\n",
       "    .dataframe thead th {\n",
       "        text-align: right;\n",
       "    }\n",
       "</style>\n",
       "<table border=\"1\" class=\"dataframe\">\n",
       "  <thead>\n",
       "    <tr style=\"text-align: right;\">\n",
       "      <th></th>\n",
       "      <th>glucose</th>\n",
       "      <th>diaBP</th>\n",
       "      <th>BMI</th>\n",
       "      <th>age</th>\n",
       "      <th>diabetes</th>\n",
       "      <th>sex</th>\n",
       "    </tr>\n",
       "  </thead>\n",
       "  <tbody>\n",
       "    <tr>\n",
       "      <th>0</th>\n",
       "      <td>148.0</td>\n",
       "      <td>72.0</td>\n",
       "      <td>33.6</td>\n",
       "      <td>50</td>\n",
       "      <td>1</td>\n",
       "      <td>F</td>\n",
       "    </tr>\n",
       "    <tr>\n",
       "      <th>1</th>\n",
       "      <td>85.0</td>\n",
       "      <td>66.0</td>\n",
       "      <td>26.6</td>\n",
       "      <td>31</td>\n",
       "      <td>0</td>\n",
       "      <td>F</td>\n",
       "    </tr>\n",
       "    <tr>\n",
       "      <th>2</th>\n",
       "      <td>183.0</td>\n",
       "      <td>64.0</td>\n",
       "      <td>23.3</td>\n",
       "      <td>32</td>\n",
       "      <td>1</td>\n",
       "      <td>F</td>\n",
       "    </tr>\n",
       "    <tr>\n",
       "      <th>3</th>\n",
       "      <td>89.0</td>\n",
       "      <td>66.0</td>\n",
       "      <td>28.1</td>\n",
       "      <td>21</td>\n",
       "      <td>0</td>\n",
       "      <td>F</td>\n",
       "    </tr>\n",
       "    <tr>\n",
       "      <th>4</th>\n",
       "      <td>137.0</td>\n",
       "      <td>40.0</td>\n",
       "      <td>43.1</td>\n",
       "      <td>33</td>\n",
       "      <td>1</td>\n",
       "      <td>F</td>\n",
       "    </tr>\n",
       "  </tbody>\n",
       "</table>\n",
       "</div>"
      ],
      "text/plain": [
       "   glucose  diaBP   BMI  age  diabetes sex\n",
       "0    148.0   72.0  33.6   50         1   F\n",
       "1     85.0   66.0  26.6   31         0   F\n",
       "2    183.0   64.0  23.3   32         1   F\n",
       "3     89.0   66.0  28.1   21         0   F\n",
       "4    137.0   40.0  43.1   33         1   F"
      ]
     },
     "execution_count": 1524,
     "metadata": {},
     "output_type": "execute_result"
    }
   ],
   "source": [
    "cols = ['Pregnancies','SkinThickness','Insulin','DiabetesPedigreeFunction']\n",
    "df_1 = del_columns(original_diabetes_copy,cols)\n",
    "df_1.head()"
   ]
  },
  {
   "cell_type": "code",
   "execution_count": 1525,
   "id": "b5790eae",
   "metadata": {},
   "outputs": [
    {
     "data": {
      "text/html": [
       "<div>\n",
       "<style scoped>\n",
       "    .dataframe tbody tr th:only-of-type {\n",
       "        vertical-align: middle;\n",
       "    }\n",
       "\n",
       "    .dataframe tbody tr th {\n",
       "        vertical-align: top;\n",
       "    }\n",
       "\n",
       "    .dataframe thead th {\n",
       "        text-align: right;\n",
       "    }\n",
       "</style>\n",
       "<table border=\"1\" class=\"dataframe\">\n",
       "  <thead>\n",
       "    <tr style=\"text-align: right;\">\n",
       "      <th></th>\n",
       "      <th>age</th>\n",
       "      <th>sex</th>\n",
       "      <th>diabetes</th>\n",
       "      <th>diaBP</th>\n",
       "      <th>BMI</th>\n",
       "      <th>glucose</th>\n",
       "    </tr>\n",
       "  </thead>\n",
       "  <tbody>\n",
       "    <tr>\n",
       "      <th>0</th>\n",
       "      <td>43</td>\n",
       "      <td>M</td>\n",
       "      <td>0</td>\n",
       "      <td>65.0</td>\n",
       "      <td>24.42</td>\n",
       "      <td>100.0</td>\n",
       "    </tr>\n",
       "    <tr>\n",
       "      <th>1</th>\n",
       "      <td>56</td>\n",
       "      <td>F</td>\n",
       "      <td>0</td>\n",
       "      <td>82.5</td>\n",
       "      <td>28.61</td>\n",
       "      <td>58.0</td>\n",
       "    </tr>\n",
       "    <tr>\n",
       "      <th>2</th>\n",
       "      <td>58</td>\n",
       "      <td>F</td>\n",
       "      <td>0</td>\n",
       "      <td>100.0</td>\n",
       "      <td>25.56</td>\n",
       "      <td>78.0</td>\n",
       "    </tr>\n",
       "    <tr>\n",
       "      <th>3</th>\n",
       "      <td>47</td>\n",
       "      <td>F</td>\n",
       "      <td>0</td>\n",
       "      <td>66.0</td>\n",
       "      <td>23.40</td>\n",
       "      <td>78.0</td>\n",
       "    </tr>\n",
       "    <tr>\n",
       "      <th>4</th>\n",
       "      <td>44</td>\n",
       "      <td>M</td>\n",
       "      <td>0</td>\n",
       "      <td>87.0</td>\n",
       "      <td>25.81</td>\n",
       "      <td>78.0</td>\n",
       "    </tr>\n",
       "  </tbody>\n",
       "</table>\n",
       "</div>"
      ],
      "text/plain": [
       "   age sex  diabetes  diaBP    BMI  glucose\n",
       "0   43   M         0   65.0  24.42    100.0\n",
       "1   56   F         0   82.5  28.61     58.0\n",
       "2   58   F         0  100.0  25.56     78.0\n",
       "3   47   F         0   66.0  23.40     78.0\n",
       "4   44   M         0   87.0  25.81     78.0"
      ]
     },
     "execution_count": 1525,
     "metadata": {},
     "output_type": "execute_result"
    }
   ],
   "source": [
    "cols = ['is_smoking','education','cigsPerDay','BPMeds','prevalentHyp','prevalentStroke','totChol','sysBP','heartRate']\n",
    "df_2 = del_columns(df_copy,cols)\n",
    "df_2.head()"
   ]
  },
  {
   "cell_type": "code",
   "execution_count": 1526,
   "id": "da29d9f7",
   "metadata": {},
   "outputs": [
    {
     "data": {
      "text/html": [
       "<div>\n",
       "<style scoped>\n",
       "    .dataframe tbody tr th:only-of-type {\n",
       "        vertical-align: middle;\n",
       "    }\n",
       "\n",
       "    .dataframe tbody tr th {\n",
       "        vertical-align: top;\n",
       "    }\n",
       "\n",
       "    .dataframe thead th {\n",
       "        text-align: right;\n",
       "    }\n",
       "</style>\n",
       "<table border=\"1\" class=\"dataframe\">\n",
       "  <thead>\n",
       "    <tr style=\"text-align: right;\">\n",
       "      <th></th>\n",
       "      <th>glucose</th>\n",
       "      <th>diaBP</th>\n",
       "      <th>BMI</th>\n",
       "      <th>age</th>\n",
       "      <th>diabetes</th>\n",
       "      <th>sex</th>\n",
       "    </tr>\n",
       "  </thead>\n",
       "  <tbody>\n",
       "    <tr>\n",
       "      <th>0</th>\n",
       "      <td>148.0</td>\n",
       "      <td>72.0</td>\n",
       "      <td>33.6</td>\n",
       "      <td>50</td>\n",
       "      <td>1</td>\n",
       "      <td>F</td>\n",
       "    </tr>\n",
       "    <tr>\n",
       "      <th>1</th>\n",
       "      <td>85.0</td>\n",
       "      <td>66.0</td>\n",
       "      <td>26.6</td>\n",
       "      <td>31</td>\n",
       "      <td>0</td>\n",
       "      <td>F</td>\n",
       "    </tr>\n",
       "    <tr>\n",
       "      <th>2</th>\n",
       "      <td>183.0</td>\n",
       "      <td>64.0</td>\n",
       "      <td>23.3</td>\n",
       "      <td>32</td>\n",
       "      <td>1</td>\n",
       "      <td>F</td>\n",
       "    </tr>\n",
       "    <tr>\n",
       "      <th>3</th>\n",
       "      <td>89.0</td>\n",
       "      <td>66.0</td>\n",
       "      <td>28.1</td>\n",
       "      <td>21</td>\n",
       "      <td>0</td>\n",
       "      <td>F</td>\n",
       "    </tr>\n",
       "    <tr>\n",
       "      <th>4</th>\n",
       "      <td>137.0</td>\n",
       "      <td>40.0</td>\n",
       "      <td>43.1</td>\n",
       "      <td>33</td>\n",
       "      <td>1</td>\n",
       "      <td>F</td>\n",
       "    </tr>\n",
       "  </tbody>\n",
       "</table>\n",
       "</div>"
      ],
      "text/plain": [
       "   glucose  diaBP   BMI  age  diabetes sex\n",
       "0    148.0   72.0  33.6   50         1   F\n",
       "1     85.0   66.0  26.6   31         0   F\n",
       "2    183.0   64.0  23.3   32         1   F\n",
       "3     89.0   66.0  28.1   21         0   F\n",
       "4    137.0   40.0  43.1   33         1   F"
      ]
     },
     "execution_count": 1526,
     "metadata": {},
     "output_type": "execute_result"
    }
   ],
   "source": [
    "# Concatenation of Dataset 1 and Dataset 2\n",
    "df_1_2 = data_concat(df_1,df_2)\n",
    "df_1_2.head()"
   ]
  },
  {
   "cell_type": "code",
   "execution_count": 1527,
   "id": "b9d68f11",
   "metadata": {},
   "outputs": [
    {
     "name": "stdout",
     "output_type": "stream",
     "text": [
      "<class 'pandas.core.frame.DataFrame'>\n",
      "Int64Index: 5006 entries, 0 to 3389\n",
      "Data columns (total 6 columns):\n",
      " #   Column    Non-Null Count  Dtype  \n",
      "---  ------    --------------  -----  \n",
      " 0   glucose   5001 non-null   float64\n",
      " 1   diaBP     4971 non-null   float64\n",
      " 2   BMI       4995 non-null   float64\n",
      " 3   age       5006 non-null   int64  \n",
      " 4   diabetes  5006 non-null   int64  \n",
      " 5   sex       5006 non-null   object \n",
      "dtypes: float64(3), int64(2), object(1)\n",
      "memory usage: 273.8+ KB\n"
     ]
    }
   ],
   "source": [
    "df_1_2.info()"
   ]
  },
  {
   "cell_type": "markdown",
   "id": "cc821d89",
   "metadata": {},
   "source": [
    "#### Data analysis"
   ]
  },
  {
   "cell_type": "markdown",
   "id": "5e3a8422",
   "metadata": {},
   "source": [
    "##### Search for correlation between database features"
   ]
  },
  {
   "cell_type": "code",
   "execution_count": 1528,
   "id": "7d26729e",
   "metadata": {},
   "outputs": [
    {
     "data": {
      "image/png": "[encoded data removed]",
      "text/plain": [
       "<Figure size 1440x1080 with 2 Axes>"
      ]
     },
     "metadata": {
      "needs_background": "light"
     },
     "output_type": "display_data"
    }
   ],
   "source": [
    "# Check data correlation\n",
    "corr_matrix(df_1_2,'Data correlation matrix')"
   ]
  },
  {
   "cell_type": "code",
   "execution_count": 1529,
   "id": "bc4a9d34",
   "metadata": {},
   "outputs": [
    {
     "data": {
      "image/png": "[encoded data removed]",
      "text/plain": [
       "<Figure size 1440x1080 with 1 Axes>"
      ]
     },
     "metadata": {
      "needs_background": "light"
     },
     "output_type": "display_data"
    }
   ],
   "source": [
    "# The distribution Glucose via boxplot\n",
    "data_boxplot(df_1_2, 'glucose', 'diabetes', 'Glucose per observations')"
   ]
  },
  {
   "cell_type": "code",
   "execution_count": 1530,
   "id": "b6ccacc6",
   "metadata": {},
   "outputs": [
    {
     "data": {
      "image/png": "[encoded data removed]",
      "text/plain": [
       "<Figure size 1440x720 with 1 Axes>"
      ]
     },
     "metadata": {
      "needs_background": "light"
     },
     "output_type": "display_data"
    }
   ],
   "source": [
    "# BMI distribution to the Diebetes in a violin plot\n",
    "data_violinplot(df_1_2, 'diabetes', 'BMI', 'Diabetes to BMI')"
   ]
  },
  {
   "cell_type": "code",
   "execution_count": 1531,
   "id": "e2ea7192",
   "metadata": {},
   "outputs": [
    {
     "data": {
      "text/plain": [
       "<Figure size 1440x720 with 0 Axes>"
      ]
     },
     "metadata": {},
     "output_type": "display_data"
    },
    {
     "data": {
      "image/png": "[encoded data removed]",
      "text/plain": [
       "<Figure size 411x360 with 1 Axes>"
      ]
     },
     "metadata": {
      "needs_background": "light"
     },
     "output_type": "display_data"
    }
   ],
   "source": [
    "# Diastolic blood pressure vs age distribution in diebetes context\n",
    "data_lmplot(df_1_2, 'diaBP', 'age', 'diabetes', 'Diastolic Blood Pressure vs Age in diebetes context')"
   ]
  },
  {
   "cell_type": "markdown",
   "id": "1822dc37",
   "metadata": {},
   "source": [
    "#### Conclusion: The significant correlation between the elevated glucose levels and increased body mass index and diagnosed diabetes is confirmed. Hight blood pressure is strongly correlated with age but it is not very clear concerning the diagnosed diabetes."
   ]
  },
  {
   "cell_type": "markdown",
   "id": "58e91e86",
   "metadata": {},
   "source": [
    "### Dataset 3. Diabetes Health Indicators Dataset"
   ]
  },
  {
   "cell_type": "markdown",
   "id": "9dcd1a9c",
   "metadata": {},
   "source": [
    "The Dataset 3 is a result of the health-related telephone survey that is collected annually from over 400,000 Americans on health-related risk behaviors, chronic health conditions, and the use of preventative services. The dataset diabetes_binary_5050split_health_indicators_BRFSS2015.csv was selected for the PJ purposes because it has 21 feature variables and is balanced."
   ]
  },
  {
   "cell_type": "code",
   "execution_count": 1532,
   "id": "ff547db6",
   "metadata": {},
   "outputs": [
    {
     "data": {
      "text/html": [
       "<div>\n",
       "<style scoped>\n",
       "    .dataframe tbody tr th:only-of-type {\n",
       "        vertical-align: middle;\n",
       "    }\n",
       "\n",
       "    .dataframe tbody tr th {\n",
       "        vertical-align: top;\n",
       "    }\n",
       "\n",
       "    .dataframe thead th {\n",
       "        text-align: right;\n",
       "    }\n",
       "</style>\n",
       "<table border=\"1\" class=\"dataframe\">\n",
       "  <thead>\n",
       "    <tr style=\"text-align: right;\">\n",
       "      <th></th>\n",
       "      <th>Diabetes_binary</th>\n",
       "      <th>HighBP</th>\n",
       "      <th>HighChol</th>\n",
       "      <th>CholCheck</th>\n",
       "      <th>BMI</th>\n",
       "      <th>Smoker</th>\n",
       "      <th>Stroke</th>\n",
       "      <th>HeartDiseaseorAttack</th>\n",
       "      <th>PhysActivity</th>\n",
       "      <th>Fruits</th>\n",
       "      <th>...</th>\n",
       "      <th>AnyHealthcare</th>\n",
       "      <th>NoDocbcCost</th>\n",
       "      <th>GenHlth</th>\n",
       "      <th>MentHlth</th>\n",
       "      <th>PhysHlth</th>\n",
       "      <th>DiffWalk</th>\n",
       "      <th>Sex</th>\n",
       "      <th>Age</th>\n",
       "      <th>Education</th>\n",
       "      <th>Income</th>\n",
       "    </tr>\n",
       "  </thead>\n",
       "  <tbody>\n",
       "    <tr>\n",
       "      <th>0</th>\n",
       "      <td>0.0</td>\n",
       "      <td>1.0</td>\n",
       "      <td>0.0</td>\n",
       "      <td>1.0</td>\n",
       "      <td>26.0</td>\n",
       "      <td>0.0</td>\n",
       "      <td>0.0</td>\n",
       "      <td>0.0</td>\n",
       "      <td>1.0</td>\n",
       "      <td>0.0</td>\n",
       "      <td>...</td>\n",
       "      <td>1.0</td>\n",
       "      <td>0.0</td>\n",
       "      <td>3.0</td>\n",
       "      <td>5.0</td>\n",
       "      <td>30.0</td>\n",
       "      <td>0.0</td>\n",
       "      <td>1.0</td>\n",
       "      <td>4.0</td>\n",
       "      <td>6.0</td>\n",
       "      <td>8.0</td>\n",
       "    </tr>\n",
       "    <tr>\n",
       "      <th>1</th>\n",
       "      <td>0.0</td>\n",
       "      <td>1.0</td>\n",
       "      <td>1.0</td>\n",
       "      <td>1.0</td>\n",
       "      <td>26.0</td>\n",
       "      <td>1.0</td>\n",
       "      <td>1.0</td>\n",
       "      <td>0.0</td>\n",
       "      <td>0.0</td>\n",
       "      <td>1.0</td>\n",
       "      <td>...</td>\n",
       "      <td>1.0</td>\n",
       "      <td>0.0</td>\n",
       "      <td>3.0</td>\n",
       "      <td>0.0</td>\n",
       "      <td>0.0</td>\n",
       "      <td>0.0</td>\n",
       "      <td>1.0</td>\n",
       "      <td>12.0</td>\n",
       "      <td>6.0</td>\n",
       "      <td>8.0</td>\n",
       "    </tr>\n",
       "    <tr>\n",
       "      <th>2</th>\n",
       "      <td>0.0</td>\n",
       "      <td>0.0</td>\n",
       "      <td>0.0</td>\n",
       "      <td>1.0</td>\n",
       "      <td>26.0</td>\n",
       "      <td>0.0</td>\n",
       "      <td>0.0</td>\n",
       "      <td>0.0</td>\n",
       "      <td>1.0</td>\n",
       "      <td>1.0</td>\n",
       "      <td>...</td>\n",
       "      <td>1.0</td>\n",
       "      <td>0.0</td>\n",
       "      <td>1.0</td>\n",
       "      <td>0.0</td>\n",
       "      <td>10.0</td>\n",
       "      <td>0.0</td>\n",
       "      <td>1.0</td>\n",
       "      <td>13.0</td>\n",
       "      <td>6.0</td>\n",
       "      <td>8.0</td>\n",
       "    </tr>\n",
       "    <tr>\n",
       "      <th>3</th>\n",
       "      <td>0.0</td>\n",
       "      <td>1.0</td>\n",
       "      <td>1.0</td>\n",
       "      <td>1.0</td>\n",
       "      <td>28.0</td>\n",
       "      <td>1.0</td>\n",
       "      <td>0.0</td>\n",
       "      <td>0.0</td>\n",
       "      <td>1.0</td>\n",
       "      <td>1.0</td>\n",
       "      <td>...</td>\n",
       "      <td>1.0</td>\n",
       "      <td>0.0</td>\n",
       "      <td>3.0</td>\n",
       "      <td>0.0</td>\n",
       "      <td>3.0</td>\n",
       "      <td>0.0</td>\n",
       "      <td>1.0</td>\n",
       "      <td>11.0</td>\n",
       "      <td>6.0</td>\n",
       "      <td>8.0</td>\n",
       "    </tr>\n",
       "    <tr>\n",
       "      <th>4</th>\n",
       "      <td>0.0</td>\n",
       "      <td>0.0</td>\n",
       "      <td>0.0</td>\n",
       "      <td>1.0</td>\n",
       "      <td>29.0</td>\n",
       "      <td>1.0</td>\n",
       "      <td>0.0</td>\n",
       "      <td>0.0</td>\n",
       "      <td>1.0</td>\n",
       "      <td>1.0</td>\n",
       "      <td>...</td>\n",
       "      <td>1.0</td>\n",
       "      <td>0.0</td>\n",
       "      <td>2.0</td>\n",
       "      <td>0.0</td>\n",
       "      <td>0.0</td>\n",
       "      <td>0.0</td>\n",
       "      <td>0.0</td>\n",
       "      <td>8.0</td>\n",
       "      <td>5.0</td>\n",
       "      <td>8.0</td>\n",
       "    </tr>\n",
       "  </tbody>\n",
       "</table>\n",
       "<p>5 rows × 22 columns</p>\n",
       "</div>"
      ],
      "text/plain": [
       "   Diabetes_binary  HighBP  HighChol  CholCheck   BMI  Smoker  Stroke  \\\n",
       "0              0.0     1.0       0.0        1.0  26.0     0.0     0.0   \n",
       "1              0.0     1.0       1.0        1.0  26.0     1.0     1.0   \n",
       "2              0.0     0.0       0.0        1.0  26.0     0.0     0.0   \n",
       "3              0.0     1.0       1.0        1.0  28.0     1.0     0.0   \n",
       "4              0.0     0.0       0.0        1.0  29.0     1.0     0.0   \n",
       "\n",
       "   HeartDiseaseorAttack  PhysActivity  Fruits  ...  AnyHealthcare  \\\n",
       "0                   0.0           1.0     0.0  ...            1.0   \n",
       "1                   0.0           0.0     1.0  ...            1.0   \n",
       "2                   0.0           1.0     1.0  ...            1.0   \n",
       "3                   0.0           1.0     1.0  ...            1.0   \n",
       "4                   0.0           1.0     1.0  ...            1.0   \n",
       "\n",
       "   NoDocbcCost  GenHlth  MentHlth  PhysHlth  DiffWalk  Sex   Age  Education  \\\n",
       "0          0.0      3.0       5.0      30.0       0.0  1.0   4.0        6.0   \n",
       "1          0.0      3.0       0.0       0.0       0.0  1.0  12.0        6.0   \n",
       "2          0.0      1.0       0.0      10.0       0.0  1.0  13.0        6.0   \n",
       "3          0.0      3.0       0.0       3.0       0.0  1.0  11.0        6.0   \n",
       "4          0.0      2.0       0.0       0.0       0.0  0.0   8.0        5.0   \n",
       "\n",
       "   Income  \n",
       "0     8.0  \n",
       "1     8.0  \n",
       "2     8.0  \n",
       "3     8.0  \n",
       "4     8.0  \n",
       "\n",
       "[5 rows x 22 columns]"
      ]
     },
     "execution_count": 1532,
     "metadata": {},
     "output_type": "execute_result"
    }
   ],
   "source": [
    "original_diabetes_binary=pd.read_csv(\"diabetes_binary_5050split_health_indicators_BRFSS2015.csv\")\n",
    "original_diabetes_binary.head()"
   ]
  },
  {
   "cell_type": "code",
   "execution_count": 1533,
   "id": "09f87c92",
   "metadata": {},
   "outputs": [
    {
     "name": "stdout",
     "output_type": "stream",
     "text": [
      "<class 'pandas.core.frame.DataFrame'>\n",
      "RangeIndex: 70692 entries, 0 to 70691\n",
      "Data columns (total 22 columns):\n",
      " #   Column                Non-Null Count  Dtype  \n",
      "---  ------                --------------  -----  \n",
      " 0   Diabetes_binary       70692 non-null  float64\n",
      " 1   HighBP                70692 non-null  float64\n",
      " 2   HighChol              70692 non-null  float64\n",
      " 3   CholCheck             70692 non-null  float64\n",
      " 4   BMI                   70692 non-null  float64\n",
      " 5   Smoker                70692 non-null  float64\n",
      " 6   Stroke                70692 non-null  float64\n",
      " 7   HeartDiseaseorAttack  70692 non-null  float64\n",
      " 8   PhysActivity          70692 non-null  float64\n",
      " 9   Fruits                70692 non-null  float64\n",
      " 10  Veggies               70692 non-null  float64\n",
      " 11  HvyAlcoholConsump     70692 non-null  float64\n",
      " 12  AnyHealthcare         70692 non-null  float64\n",
      " 13  NoDocbcCost           70692 non-null  float64\n",
      " 14  GenHlth               70692 non-null  float64\n",
      " 15  MentHlth              70692 non-null  float64\n",
      " 16  PhysHlth              70692 non-null  float64\n",
      " 17  DiffWalk              70692 non-null  float64\n",
      " 18  Sex                   70692 non-null  float64\n",
      " 19  Age                   70692 non-null  float64\n",
      " 20  Education             70692 non-null  float64\n",
      " 21  Income                70692 non-null  float64\n",
      "dtypes: float64(22)\n",
      "memory usage: 11.9 MB\n"
     ]
    }
   ],
   "source": [
    "original_diabetes_binary.info()"
   ]
  },
  {
   "cell_type": "markdown",
   "id": "f1c18108",
   "metadata": {},
   "source": [
    "#### Data describtion:\n",
    "There are folowing columns wich can be used for the PJ purposes:\\\n",
    "Diabetes_binary\\\n",
    "HighBP\\\n",
    "BMI\\\n",
    "Sex\\\n",
    "Age"
   ]
  },
  {
   "cell_type": "code",
   "execution_count": 1534,
   "id": "0d56bc01",
   "metadata": {},
   "outputs": [
    {
     "data": {
      "text/html": [
       "<div>\n",
       "<style scoped>\n",
       "    .dataframe tbody tr th:only-of-type {\n",
       "        vertical-align: middle;\n",
       "    }\n",
       "\n",
       "    .dataframe tbody tr th {\n",
       "        vertical-align: top;\n",
       "    }\n",
       "\n",
       "    .dataframe thead th {\n",
       "        text-align: right;\n",
       "    }\n",
       "</style>\n",
       "<table border=\"1\" class=\"dataframe\">\n",
       "  <thead>\n",
       "    <tr style=\"text-align: right;\">\n",
       "      <th></th>\n",
       "      <th>Diabetes_binary</th>\n",
       "      <th>HighBP</th>\n",
       "      <th>HighChol</th>\n",
       "      <th>CholCheck</th>\n",
       "      <th>BMI</th>\n",
       "      <th>Smoker</th>\n",
       "      <th>Stroke</th>\n",
       "      <th>HeartDiseaseorAttack</th>\n",
       "      <th>PhysActivity</th>\n",
       "      <th>Fruits</th>\n",
       "      <th>...</th>\n",
       "      <th>AnyHealthcare</th>\n",
       "      <th>NoDocbcCost</th>\n",
       "      <th>GenHlth</th>\n",
       "      <th>MentHlth</th>\n",
       "      <th>PhysHlth</th>\n",
       "      <th>DiffWalk</th>\n",
       "      <th>Sex</th>\n",
       "      <th>Age</th>\n",
       "      <th>Education</th>\n",
       "      <th>Income</th>\n",
       "    </tr>\n",
       "  </thead>\n",
       "  <tbody>\n",
       "    <tr>\n",
       "      <th>count</th>\n",
       "      <td>70692.000000</td>\n",
       "      <td>70692.000000</td>\n",
       "      <td>70692.000000</td>\n",
       "      <td>70692.000000</td>\n",
       "      <td>70692.000000</td>\n",
       "      <td>70692.000000</td>\n",
       "      <td>70692.000000</td>\n",
       "      <td>70692.000000</td>\n",
       "      <td>70692.000000</td>\n",
       "      <td>70692.000000</td>\n",
       "      <td>...</td>\n",
       "      <td>70692.000000</td>\n",
       "      <td>70692.000000</td>\n",
       "      <td>70692.000000</td>\n",
       "      <td>70692.000000</td>\n",
       "      <td>70692.000000</td>\n",
       "      <td>70692.000000</td>\n",
       "      <td>70692.000000</td>\n",
       "      <td>70692.000000</td>\n",
       "      <td>70692.000000</td>\n",
       "      <td>70692.000000</td>\n",
       "    </tr>\n",
       "    <tr>\n",
       "      <th>mean</th>\n",
       "      <td>0.500000</td>\n",
       "      <td>0.563458</td>\n",
       "      <td>0.525703</td>\n",
       "      <td>0.975259</td>\n",
       "      <td>29.856985</td>\n",
       "      <td>0.475273</td>\n",
       "      <td>0.062171</td>\n",
       "      <td>0.147810</td>\n",
       "      <td>0.703036</td>\n",
       "      <td>0.611795</td>\n",
       "      <td>...</td>\n",
       "      <td>0.954960</td>\n",
       "      <td>0.093914</td>\n",
       "      <td>2.837082</td>\n",
       "      <td>3.752037</td>\n",
       "      <td>5.810417</td>\n",
       "      <td>0.252730</td>\n",
       "      <td>0.456997</td>\n",
       "      <td>8.584055</td>\n",
       "      <td>4.920953</td>\n",
       "      <td>5.698311</td>\n",
       "    </tr>\n",
       "    <tr>\n",
       "      <th>std</th>\n",
       "      <td>0.500004</td>\n",
       "      <td>0.495960</td>\n",
       "      <td>0.499342</td>\n",
       "      <td>0.155336</td>\n",
       "      <td>7.113954</td>\n",
       "      <td>0.499392</td>\n",
       "      <td>0.241468</td>\n",
       "      <td>0.354914</td>\n",
       "      <td>0.456924</td>\n",
       "      <td>0.487345</td>\n",
       "      <td>...</td>\n",
       "      <td>0.207394</td>\n",
       "      <td>0.291712</td>\n",
       "      <td>1.113565</td>\n",
       "      <td>8.155627</td>\n",
       "      <td>10.062261</td>\n",
       "      <td>0.434581</td>\n",
       "      <td>0.498151</td>\n",
       "      <td>2.852153</td>\n",
       "      <td>1.029081</td>\n",
       "      <td>2.175196</td>\n",
       "    </tr>\n",
       "    <tr>\n",
       "      <th>min</th>\n",
       "      <td>0.000000</td>\n",
       "      <td>0.000000</td>\n",
       "      <td>0.000000</td>\n",
       "      <td>0.000000</td>\n",
       "      <td>12.000000</td>\n",
       "      <td>0.000000</td>\n",
       "      <td>0.000000</td>\n",
       "      <td>0.000000</td>\n",
       "      <td>0.000000</td>\n",
       "      <td>0.000000</td>\n",
       "      <td>...</td>\n",
       "      <td>0.000000</td>\n",
       "      <td>0.000000</td>\n",
       "      <td>1.000000</td>\n",
       "      <td>0.000000</td>\n",
       "      <td>0.000000</td>\n",
       "      <td>0.000000</td>\n",
       "      <td>0.000000</td>\n",
       "      <td>1.000000</td>\n",
       "      <td>1.000000</td>\n",
       "      <td>1.000000</td>\n",
       "    </tr>\n",
       "    <tr>\n",
       "      <th>25%</th>\n",
       "      <td>0.000000</td>\n",
       "      <td>0.000000</td>\n",
       "      <td>0.000000</td>\n",
       "      <td>1.000000</td>\n",
       "      <td>25.000000</td>\n",
       "      <td>0.000000</td>\n",
       "      <td>0.000000</td>\n",
       "      <td>0.000000</td>\n",
       "      <td>0.000000</td>\n",
       "      <td>0.000000</td>\n",
       "      <td>...</td>\n",
       "      <td>1.000000</td>\n",
       "      <td>0.000000</td>\n",
       "      <td>2.000000</td>\n",
       "      <td>0.000000</td>\n",
       "      <td>0.000000</td>\n",
       "      <td>0.000000</td>\n",
       "      <td>0.000000</td>\n",
       "      <td>7.000000</td>\n",
       "      <td>4.000000</td>\n",
       "      <td>4.000000</td>\n",
       "    </tr>\n",
       "    <tr>\n",
       "      <th>50%</th>\n",
       "      <td>0.500000</td>\n",
       "      <td>1.000000</td>\n",
       "      <td>1.000000</td>\n",
       "      <td>1.000000</td>\n",
       "      <td>29.000000</td>\n",
       "      <td>0.000000</td>\n",
       "      <td>0.000000</td>\n",
       "      <td>0.000000</td>\n",
       "      <td>1.000000</td>\n",
       "      <td>1.000000</td>\n",
       "      <td>...</td>\n",
       "      <td>1.000000</td>\n",
       "      <td>0.000000</td>\n",
       "      <td>3.000000</td>\n",
       "      <td>0.000000</td>\n",
       "      <td>0.000000</td>\n",
       "      <td>0.000000</td>\n",
       "      <td>0.000000</td>\n",
       "      <td>9.000000</td>\n",
       "      <td>5.000000</td>\n",
       "      <td>6.000000</td>\n",
       "    </tr>\n",
       "    <tr>\n",
       "      <th>75%</th>\n",
       "      <td>1.000000</td>\n",
       "      <td>1.000000</td>\n",
       "      <td>1.000000</td>\n",
       "      <td>1.000000</td>\n",
       "      <td>33.000000</td>\n",
       "      <td>1.000000</td>\n",
       "      <td>0.000000</td>\n",
       "      <td>0.000000</td>\n",
       "      <td>1.000000</td>\n",
       "      <td>1.000000</td>\n",
       "      <td>...</td>\n",
       "      <td>1.000000</td>\n",
       "      <td>0.000000</td>\n",
       "      <td>4.000000</td>\n",
       "      <td>2.000000</td>\n",
       "      <td>6.000000</td>\n",
       "      <td>1.000000</td>\n",
       "      <td>1.000000</td>\n",
       "      <td>11.000000</td>\n",
       "      <td>6.000000</td>\n",
       "      <td>8.000000</td>\n",
       "    </tr>\n",
       "    <tr>\n",
       "      <th>max</th>\n",
       "      <td>1.000000</td>\n",
       "      <td>1.000000</td>\n",
       "      <td>1.000000</td>\n",
       "      <td>1.000000</td>\n",
       "      <td>98.000000</td>\n",
       "      <td>1.000000</td>\n",
       "      <td>1.000000</td>\n",
       "      <td>1.000000</td>\n",
       "      <td>1.000000</td>\n",
       "      <td>1.000000</td>\n",
       "      <td>...</td>\n",
       "      <td>1.000000</td>\n",
       "      <td>1.000000</td>\n",
       "      <td>5.000000</td>\n",
       "      <td>30.000000</td>\n",
       "      <td>30.000000</td>\n",
       "      <td>1.000000</td>\n",
       "      <td>1.000000</td>\n",
       "      <td>13.000000</td>\n",
       "      <td>6.000000</td>\n",
       "      <td>8.000000</td>\n",
       "    </tr>\n",
       "  </tbody>\n",
       "</table>\n",
       "<p>8 rows × 22 columns</p>\n",
       "</div>"
      ],
      "text/plain": [
       "       Diabetes_binary        HighBP      HighChol     CholCheck  \\\n",
       "count     70692.000000  70692.000000  70692.000000  70692.000000   \n",
       "mean          0.500000      0.563458      0.525703      0.975259   \n",
       "std           0.500004      0.495960      0.499342      0.155336   \n",
       "min           0.000000      0.000000      0.000000      0.000000   \n",
       "25%           0.000000      0.000000      0.000000      1.000000   \n",
       "50%           0.500000      1.000000      1.000000      1.000000   \n",
       "75%           1.000000      1.000000      1.000000      1.000000   \n",
       "max           1.000000      1.000000      1.000000      1.000000   \n",
       "\n",
       "                BMI        Smoker        Stroke  HeartDiseaseorAttack  \\\n",
       "count  70692.000000  70692.000000  70692.000000          70692.000000   \n",
       "mean      29.856985      0.475273      0.062171              0.147810   \n",
       "std        7.113954      0.499392      0.241468              0.354914   \n",
       "min       12.000000      0.000000      0.000000              0.000000   \n",
       "25%       25.000000      0.000000      0.000000              0.000000   \n",
       "50%       29.000000      0.000000      0.000000              0.000000   \n",
       "75%       33.000000      1.000000      0.000000              0.000000   \n",
       "max       98.000000      1.000000      1.000000              1.000000   \n",
       "\n",
       "       PhysActivity        Fruits  ...  AnyHealthcare   NoDocbcCost  \\\n",
       "count  70692.000000  70692.000000  ...   70692.000000  70692.000000   \n",
       "mean       0.703036      0.611795  ...       0.954960      0.093914   \n",
       "std        0.456924      0.487345  ...       0.207394      0.291712   \n",
       "min        0.000000      0.000000  ...       0.000000      0.000000   \n",
       "25%        0.000000      0.000000  ...       1.000000      0.000000   \n",
       "50%        1.000000      1.000000  ...       1.000000      0.000000   \n",
       "75%        1.000000      1.000000  ...       1.000000      0.000000   \n",
       "max        1.000000      1.000000  ...       1.000000      1.000000   \n",
       "\n",
       "            GenHlth      MentHlth      PhysHlth      DiffWalk           Sex  \\\n",
       "count  70692.000000  70692.000000  70692.000000  70692.000000  70692.000000   \n",
       "mean       2.837082      3.752037      5.810417      0.252730      0.456997   \n",
       "std        1.113565      8.155627     10.062261      0.434581      0.498151   \n",
       "min        1.000000      0.000000      0.000000      0.000000      0.000000   \n",
       "25%        2.000000      0.000000      0.000000      0.000000      0.000000   \n",
       "50%        3.000000      0.000000      0.000000      0.000000      0.000000   \n",
       "75%        4.000000      2.000000      6.000000      1.000000      1.000000   \n",
       "max        5.000000     30.000000     30.000000      1.000000      1.000000   \n",
       "\n",
       "                Age     Education        Income  \n",
       "count  70692.000000  70692.000000  70692.000000  \n",
       "mean       8.584055      4.920953      5.698311  \n",
       "std        2.852153      1.029081      2.175196  \n",
       "min        1.000000      1.000000      1.000000  \n",
       "25%        7.000000      4.000000      4.000000  \n",
       "50%        9.000000      5.000000      6.000000  \n",
       "75%       11.000000      6.000000      8.000000  \n",
       "max       13.000000      6.000000      8.000000  \n",
       "\n",
       "[8 rows x 22 columns]"
      ]
     },
     "execution_count": 1534,
     "metadata": {},
     "output_type": "execute_result"
    }
   ],
   "source": [
    "# Data describtion\n",
    "original_diabetes_binary.describe(include='all')"
   ]
  },
  {
   "cell_type": "code",
   "execution_count": 1535,
   "id": "4c401ea9",
   "metadata": {},
   "outputs": [
    {
     "name": "stdout",
     "output_type": "stream",
     "text": [
      "Diabetes_binary : 0.00%\n",
      "HighBP : 0.00%\n",
      "HighChol : 0.00%\n",
      "CholCheck : 0.00%\n",
      "BMI : 0.00%\n",
      "Smoker : 0.00%\n",
      "Stroke : 0.00%\n",
      "HeartDiseaseorAttack : 0.00%\n",
      "PhysActivity : 0.00%\n",
      "Fruits : 0.00%\n",
      "Veggies : 0.00%\n",
      "HvyAlcoholConsump : 0.00%\n",
      "AnyHealthcare : 0.00%\n",
      "NoDocbcCost : 0.00%\n",
      "GenHlth : 0.00%\n",
      "MentHlth : 0.00%\n",
      "PhysHlth : 0.00%\n",
      "DiffWalk : 0.00%\n",
      "Sex : 0.00%\n",
      "Age : 0.00%\n",
      "Education : 0.00%\n",
      "Income : 0.00%\n"
     ]
    }
   ],
   "source": [
    "# Checking for missing value\n",
    "isna_percent_col(original_diabetes_binary)"
   ]
  },
  {
   "cell_type": "code",
   "execution_count": 1536,
   "id": "5cef6a40",
   "metadata": {},
   "outputs": [
    {
     "data": {
      "text/plain": [
       "1635"
      ]
     },
     "execution_count": 1536,
     "metadata": {},
     "output_type": "execute_result"
    }
   ],
   "source": [
    "# Check duplicated rows\n",
    "original_diabetes_binary.duplicated().sum()"
   ]
  },
  {
   "cell_type": "code",
   "execution_count": 1537,
   "id": "316d905c",
   "metadata": {},
   "outputs": [],
   "source": [
    "# Eliminate 1635 duplicate rows\n",
    "original_diabetes_binary.drop_duplicates(inplace = True)"
   ]
  },
  {
   "cell_type": "code",
   "execution_count": 1538,
   "id": "90e53c4a",
   "metadata": {},
   "outputs": [
    {
     "data": {
      "text/plain": [
       "Diabetes_binary         33960\n",
       "HighBP                  29610\n",
       "HighChol                32365\n",
       "CholCheck                1740\n",
       "BMI                         0\n",
       "Smoker                  35776\n",
       "Stroke                  64662\n",
       "HeartDiseaseorAttack    58638\n",
       "PhysActivity            20960\n",
       "Fruits                  27232\n",
       "Veggies                 14908\n",
       "HvyAlcoholConsump       66052\n",
       "AnyHealthcare            3183\n",
       "NoDocbcCost             62418\n",
       "GenHlth                     0\n",
       "MentHlth                46485\n",
       "PhysHlth                38311\n",
       "DiffWalk                51198\n",
       "Sex                     37535\n",
       "Age                         0\n",
       "Education                   0\n",
       "Income                      0\n",
       "dtype: int64"
      ]
     },
     "execution_count": 1538,
     "metadata": {},
     "output_type": "execute_result"
    }
   ],
   "source": [
    "# Check for null values\n",
    "(original_diabetes_binary == 0).sum()"
   ]
  },
  {
   "cell_type": "markdown",
   "id": "ba0422e9",
   "metadata": {},
   "source": [
    "It is neccesary to modificate Dataset 3 for the analysis with the Dataset 1 and Dataset 2. "
   ]
  },
  {
   "cell_type": "markdown",
   "id": "bfac2b68",
   "metadata": {},
   "source": [
    "#### Data preprocessing"
   ]
  },
  {
   "cell_type": "code",
   "execution_count": 1539,
   "id": "772a13d0",
   "metadata": {},
   "outputs": [
    {
     "data": {
      "text/html": [
       "<div>\n",
       "<style scoped>\n",
       "    .dataframe tbody tr th:only-of-type {\n",
       "        vertical-align: middle;\n",
       "    }\n",
       "\n",
       "    .dataframe tbody tr th {\n",
       "        vertical-align: top;\n",
       "    }\n",
       "\n",
       "    .dataframe thead th {\n",
       "        text-align: right;\n",
       "    }\n",
       "</style>\n",
       "<table border=\"1\" class=\"dataframe\">\n",
       "  <thead>\n",
       "    <tr style=\"text-align: right;\">\n",
       "      <th></th>\n",
       "      <th>Diabetes_binary</th>\n",
       "      <th>HighBP</th>\n",
       "      <th>BMI</th>\n",
       "      <th>Sex</th>\n",
       "      <th>Age</th>\n",
       "    </tr>\n",
       "  </thead>\n",
       "  <tbody>\n",
       "    <tr>\n",
       "      <th>0</th>\n",
       "      <td>0.0</td>\n",
       "      <td>1.0</td>\n",
       "      <td>26.0</td>\n",
       "      <td>1.0</td>\n",
       "      <td>4.0</td>\n",
       "    </tr>\n",
       "    <tr>\n",
       "      <th>1</th>\n",
       "      <td>0.0</td>\n",
       "      <td>1.0</td>\n",
       "      <td>26.0</td>\n",
       "      <td>1.0</td>\n",
       "      <td>12.0</td>\n",
       "    </tr>\n",
       "    <tr>\n",
       "      <th>2</th>\n",
       "      <td>0.0</td>\n",
       "      <td>0.0</td>\n",
       "      <td>26.0</td>\n",
       "      <td>1.0</td>\n",
       "      <td>13.0</td>\n",
       "    </tr>\n",
       "    <tr>\n",
       "      <th>3</th>\n",
       "      <td>0.0</td>\n",
       "      <td>1.0</td>\n",
       "      <td>28.0</td>\n",
       "      <td>1.0</td>\n",
       "      <td>11.0</td>\n",
       "    </tr>\n",
       "    <tr>\n",
       "      <th>4</th>\n",
       "      <td>0.0</td>\n",
       "      <td>0.0</td>\n",
       "      <td>29.0</td>\n",
       "      <td>0.0</td>\n",
       "      <td>8.0</td>\n",
       "    </tr>\n",
       "  </tbody>\n",
       "</table>\n",
       "</div>"
      ],
      "text/plain": [
       "   Diabetes_binary  HighBP   BMI  Sex   Age\n",
       "0              0.0     1.0  26.0  1.0   4.0\n",
       "1              0.0     1.0  26.0  1.0  12.0\n",
       "2              0.0     0.0  26.0  1.0  13.0\n",
       "3              0.0     1.0  28.0  1.0  11.0\n",
       "4              0.0     0.0  29.0  0.0   8.0"
      ]
     },
     "execution_count": 1539,
     "metadata": {},
     "output_type": "execute_result"
    }
   ],
   "source": [
    "cols = ['HighChol','Education','CholCheck','Smoker','Stroke','HeartDiseaseorAttack','PhysActivity','Fruits','Veggies','HvyAlcoholConsump','AnyHealthcare','NoDocbcCost','GenHlth','MentHlth','PhysHlth','DiffWalk','Income']\n",
    "diabetes_binary_copy = del_columns(original_diabetes_binary,cols)\n",
    "diabetes_binary_copy.head()"
   ]
  },
  {
   "cell_type": "code",
   "execution_count": 1540,
   "id": "297343d1",
   "metadata": {},
   "outputs": [
    {
     "data": {
      "text/html": [
       "<div>\n",
       "<style scoped>\n",
       "    .dataframe tbody tr th:only-of-type {\n",
       "        vertical-align: middle;\n",
       "    }\n",
       "\n",
       "    .dataframe tbody tr th {\n",
       "        vertical-align: top;\n",
       "    }\n",
       "\n",
       "    .dataframe thead th {\n",
       "        text-align: right;\n",
       "    }\n",
       "</style>\n",
       "<table border=\"1\" class=\"dataframe\">\n",
       "  <thead>\n",
       "    <tr style=\"text-align: right;\">\n",
       "      <th></th>\n",
       "      <th>diabetes</th>\n",
       "      <th>diaBP</th>\n",
       "      <th>BMI</th>\n",
       "      <th>sex</th>\n",
       "      <th>age</th>\n",
       "    </tr>\n",
       "  </thead>\n",
       "  <tbody>\n",
       "    <tr>\n",
       "      <th>0</th>\n",
       "      <td>0.0</td>\n",
       "      <td>1.0</td>\n",
       "      <td>26.0</td>\n",
       "      <td>1.0</td>\n",
       "      <td>4.0</td>\n",
       "    </tr>\n",
       "    <tr>\n",
       "      <th>1</th>\n",
       "      <td>0.0</td>\n",
       "      <td>1.0</td>\n",
       "      <td>26.0</td>\n",
       "      <td>1.0</td>\n",
       "      <td>12.0</td>\n",
       "    </tr>\n",
       "    <tr>\n",
       "      <th>2</th>\n",
       "      <td>0.0</td>\n",
       "      <td>0.0</td>\n",
       "      <td>26.0</td>\n",
       "      <td>1.0</td>\n",
       "      <td>13.0</td>\n",
       "    </tr>\n",
       "    <tr>\n",
       "      <th>3</th>\n",
       "      <td>0.0</td>\n",
       "      <td>1.0</td>\n",
       "      <td>28.0</td>\n",
       "      <td>1.0</td>\n",
       "      <td>11.0</td>\n",
       "    </tr>\n",
       "    <tr>\n",
       "      <th>4</th>\n",
       "      <td>0.0</td>\n",
       "      <td>0.0</td>\n",
       "      <td>29.0</td>\n",
       "      <td>0.0</td>\n",
       "      <td>8.0</td>\n",
       "    </tr>\n",
       "  </tbody>\n",
       "</table>\n",
       "</div>"
      ],
      "text/plain": [
       "   diabetes  diaBP   BMI  sex   age\n",
       "0       0.0    1.0  26.0  1.0   4.0\n",
       "1       0.0    1.0  26.0  1.0  12.0\n",
       "2       0.0    0.0  26.0  1.0  13.0\n",
       "3       0.0    1.0  28.0  1.0  11.0\n",
       "4       0.0    0.0  29.0  0.0   8.0"
      ]
     },
     "execution_count": 1540,
     "metadata": {},
     "output_type": "execute_result"
    }
   ],
   "source": [
    "# Change column's names\n",
    "col_name_change(diabetes_binary_copy, 'Diabetes_binary', 'diabetes')\n",
    "col_name_change(diabetes_binary_copy, 'HighBP', 'diaBP')\n",
    "col_name_change(diabetes_binary_copy, 'Age', 'age')\n",
    "col_name_change(diabetes_binary_copy, 'Sex', 'sex')\n",
    "diabetes_binary_copy.head()"
   ]
  },
  {
   "cell_type": "code",
   "execution_count": 1541,
   "id": "31631f20",
   "metadata": {},
   "outputs": [
    {
     "data": {
      "text/html": [
       "<div>\n",
       "<style scoped>\n",
       "    .dataframe tbody tr th:only-of-type {\n",
       "        vertical-align: middle;\n",
       "    }\n",
       "\n",
       "    .dataframe tbody tr th {\n",
       "        vertical-align: top;\n",
       "    }\n",
       "\n",
       "    .dataframe thead th {\n",
       "        text-align: right;\n",
       "    }\n",
       "</style>\n",
       "<table border=\"1\" class=\"dataframe\">\n",
       "  <thead>\n",
       "    <tr style=\"text-align: right;\">\n",
       "      <th></th>\n",
       "      <th>diabetes</th>\n",
       "      <th>diaBP</th>\n",
       "      <th>BMI</th>\n",
       "      <th>sex</th>\n",
       "      <th>age</th>\n",
       "    </tr>\n",
       "  </thead>\n",
       "  <tbody>\n",
       "    <tr>\n",
       "      <th>0</th>\n",
       "      <td>0.0</td>\n",
       "      <td>1.0</td>\n",
       "      <td>26.0</td>\n",
       "      <td>M</td>\n",
       "      <td>4.0</td>\n",
       "    </tr>\n",
       "    <tr>\n",
       "      <th>1</th>\n",
       "      <td>0.0</td>\n",
       "      <td>1.0</td>\n",
       "      <td>26.0</td>\n",
       "      <td>M</td>\n",
       "      <td>12.0</td>\n",
       "    </tr>\n",
       "    <tr>\n",
       "      <th>2</th>\n",
       "      <td>0.0</td>\n",
       "      <td>0.0</td>\n",
       "      <td>26.0</td>\n",
       "      <td>M</td>\n",
       "      <td>13.0</td>\n",
       "    </tr>\n",
       "    <tr>\n",
       "      <th>3</th>\n",
       "      <td>0.0</td>\n",
       "      <td>1.0</td>\n",
       "      <td>28.0</td>\n",
       "      <td>M</td>\n",
       "      <td>11.0</td>\n",
       "    </tr>\n",
       "    <tr>\n",
       "      <th>4</th>\n",
       "      <td>0.0</td>\n",
       "      <td>0.0</td>\n",
       "      <td>29.0</td>\n",
       "      <td>F</td>\n",
       "      <td>8.0</td>\n",
       "    </tr>\n",
       "  </tbody>\n",
       "</table>\n",
       "</div>"
      ],
      "text/plain": [
       "   diabetes  diaBP   BMI sex   age\n",
       "0       0.0    1.0  26.0   M   4.0\n",
       "1       0.0    1.0  26.0   M  12.0\n",
       "2       0.0    0.0  26.0   M  13.0\n",
       "3       0.0    1.0  28.0   M  11.0\n",
       "4       0.0    0.0  29.0   F   8.0"
      ]
     },
     "execution_count": 1541,
     "metadata": {},
     "output_type": "execute_result"
    }
   ],
   "source": [
    "diabetes_binary_copy['sex'] = diabetes_binary_copy['sex'].replace({0:'F'})\n",
    "diabetes_binary_copy['sex'] = diabetes_binary_copy['sex'].replace({1:'M'})\n",
    "diabetes_binary_copy['age'] = diabetes_binary_copy['age'].astype('category')\n",
    "diabetes_binary_copy.head()"
   ]
  },
  {
   "cell_type": "markdown",
   "id": "0d52ec85",
   "metadata": {},
   "source": [
    "The columns 'diaBP' and 'age' in Dataset 3 are grouped by the categories. It is neccesary to group the similar data in the merged Dataset 1 and Dataset 2."
   ]
  },
  {
   "cell_type": "markdown",
   "id": "a7198189",
   "metadata": {},
   "source": [
    "Age Category-number to Year-range\\\n",
    "Category \\ Age range\t\n",
    "1 \t18-24\\\n",
    "2 \t25-29\\\n",
    "3 \t30-34\\\n",
    "4 \t35-39\\\n",
    "5 \t40-44\\\n",
    "6 \t45-49\\\n",
    "7 \t50-54\\\n",
    "8 \t55-59\\\n",
    "9 \t60-64\\\n",
    "10 \t65-69\\\n",
    "11 \t70-74\\\n",
    "12 \t75-79\\\n",
    "13  80+"
   ]
  },
  {
   "cell_type": "code",
   "execution_count": 1542,
   "id": "83a6e8d2",
   "metadata": {},
   "outputs": [
    {
     "name": "stdout",
     "output_type": "stream",
     "text": [
      "<class 'pandas.core.frame.DataFrame'>\n",
      "Int64Index: 5006 entries, 0 to 3389\n",
      "Data columns (total 6 columns):\n",
      " #   Column    Non-Null Count  Dtype   \n",
      "---  ------    --------------  -----   \n",
      " 0   glucose   5001 non-null   float64 \n",
      " 1   diaBP     4971 non-null   float64 \n",
      " 2   BMI       4995 non-null   float64 \n",
      " 3   age       5006 non-null   category\n",
      " 4   diabetes  5006 non-null   int64   \n",
      " 5   sex       5006 non-null   object  \n",
      "dtypes: category(1), float64(3), int64(1), object(1)\n",
      "memory usage: 400.3+ KB\n"
     ]
    }
   ],
   "source": [
    "# Replace numeric to the categories in merged Dataset 1 and 2\n",
    "age_bins = 13\n",
    "age_labels = ['1.0', '2.0', '3.0', '4.0','5.0','6.0','7.0','8.0','9.0','10.0','11.0','12.0','13.0']\n",
    "age_ranges_bins_labels(df_1_2, 'age','age', age_bins, age_labels)\n",
    "df_1_2.info()"
   ]
  },
  {
   "cell_type": "markdown",
   "id": "eeba31e1",
   "metadata": {},
   "source": [
    "Diastolic blood pressure higher than 90 mm HG is defined as high blood pressure."
   ]
  },
  {
   "cell_type": "code",
   "execution_count": 1543,
   "id": "9f5fcf4b",
   "metadata": {},
   "outputs": [
    {
     "data": {
      "text/html": [
       "<div>\n",
       "<style scoped>\n",
       "    .dataframe tbody tr th:only-of-type {\n",
       "        vertical-align: middle;\n",
       "    }\n",
       "\n",
       "    .dataframe tbody tr th {\n",
       "        vertical-align: top;\n",
       "    }\n",
       "\n",
       "    .dataframe thead th {\n",
       "        text-align: right;\n",
       "    }\n",
       "</style>\n",
       "<table border=\"1\" class=\"dataframe\">\n",
       "  <thead>\n",
       "    <tr style=\"text-align: right;\">\n",
       "      <th></th>\n",
       "      <th>glucose</th>\n",
       "      <th>diaBP</th>\n",
       "      <th>BMI</th>\n",
       "      <th>age</th>\n",
       "      <th>diabetes</th>\n",
       "      <th>sex</th>\n",
       "    </tr>\n",
       "  </thead>\n",
       "  <tbody>\n",
       "    <tr>\n",
       "      <th>0</th>\n",
       "      <td>148.0</td>\n",
       "      <td>0</td>\n",
       "      <td>33.6</td>\n",
       "      <td>7.0</td>\n",
       "      <td>1</td>\n",
       "      <td>F</td>\n",
       "    </tr>\n",
       "    <tr>\n",
       "      <th>1</th>\n",
       "      <td>85.0</td>\n",
       "      <td>0</td>\n",
       "      <td>26.6</td>\n",
       "      <td>3.0</td>\n",
       "      <td>0</td>\n",
       "      <td>F</td>\n",
       "    </tr>\n",
       "    <tr>\n",
       "      <th>2</th>\n",
       "      <td>183.0</td>\n",
       "      <td>0</td>\n",
       "      <td>23.3</td>\n",
       "      <td>3.0</td>\n",
       "      <td>1</td>\n",
       "      <td>F</td>\n",
       "    </tr>\n",
       "    <tr>\n",
       "      <th>3</th>\n",
       "      <td>89.0</td>\n",
       "      <td>0</td>\n",
       "      <td>28.1</td>\n",
       "      <td>1.0</td>\n",
       "      <td>0</td>\n",
       "      <td>F</td>\n",
       "    </tr>\n",
       "    <tr>\n",
       "      <th>4</th>\n",
       "      <td>137.0</td>\n",
       "      <td>0</td>\n",
       "      <td>43.1</td>\n",
       "      <td>3.0</td>\n",
       "      <td>1</td>\n",
       "      <td>F</td>\n",
       "    </tr>\n",
       "  </tbody>\n",
       "</table>\n",
       "</div>"
      ],
      "text/plain": [
       "   glucose  diaBP   BMI  age  diabetes sex\n",
       "0    148.0      0  33.6  7.0         1   F\n",
       "1     85.0      0  26.6  3.0         0   F\n",
       "2    183.0      0  23.3  3.0         1   F\n",
       "3     89.0      0  28.1  1.0         0   F\n",
       "4    137.0      0  43.1  3.0         1   F"
      ]
     },
     "execution_count": 1543,
     "metadata": {},
     "output_type": "execute_result"
    }
   ],
   "source": [
    "# Replace diaBP values to \"0\" if not high blood pressure, \"1\" if high blood pressure using lambda function\n",
    "df_1_2['diaBP'] = df_1_2['diaBP'].apply(lambda x: 0 if x <= 90 else 1)\n",
    "df_1_2.head()"
   ]
  },
  {
   "cell_type": "code",
   "execution_count": 1544,
   "id": "10b17622",
   "metadata": {
    "scrolled": true
   },
   "outputs": [
    {
     "data": {
      "text/html": [
       "<div>\n",
       "<style scoped>\n",
       "    .dataframe tbody tr th:only-of-type {\n",
       "        vertical-align: middle;\n",
       "    }\n",
       "\n",
       "    .dataframe tbody tr th {\n",
       "        vertical-align: top;\n",
       "    }\n",
       "\n",
       "    .dataframe thead th {\n",
       "        text-align: right;\n",
       "    }\n",
       "</style>\n",
       "<table border=\"1\" class=\"dataframe\">\n",
       "  <thead>\n",
       "    <tr style=\"text-align: right;\">\n",
       "      <th></th>\n",
       "      <th>glucose</th>\n",
       "      <th>diaBP</th>\n",
       "      <th>BMI</th>\n",
       "      <th>age</th>\n",
       "      <th>diabetes</th>\n",
       "      <th>sex</th>\n",
       "    </tr>\n",
       "  </thead>\n",
       "  <tbody>\n",
       "    <tr>\n",
       "      <th>0</th>\n",
       "      <td>148.0</td>\n",
       "      <td>0.0</td>\n",
       "      <td>33.6</td>\n",
       "      <td>7.0</td>\n",
       "      <td>1.0</td>\n",
       "      <td>F</td>\n",
       "    </tr>\n",
       "    <tr>\n",
       "      <th>1</th>\n",
       "      <td>85.0</td>\n",
       "      <td>0.0</td>\n",
       "      <td>26.6</td>\n",
       "      <td>3.0</td>\n",
       "      <td>0.0</td>\n",
       "      <td>F</td>\n",
       "    </tr>\n",
       "    <tr>\n",
       "      <th>2</th>\n",
       "      <td>183.0</td>\n",
       "      <td>0.0</td>\n",
       "      <td>23.3</td>\n",
       "      <td>3.0</td>\n",
       "      <td>1.0</td>\n",
       "      <td>F</td>\n",
       "    </tr>\n",
       "    <tr>\n",
       "      <th>3</th>\n",
       "      <td>89.0</td>\n",
       "      <td>0.0</td>\n",
       "      <td>28.1</td>\n",
       "      <td>1.0</td>\n",
       "      <td>0.0</td>\n",
       "      <td>F</td>\n",
       "    </tr>\n",
       "    <tr>\n",
       "      <th>4</th>\n",
       "      <td>137.0</td>\n",
       "      <td>0.0</td>\n",
       "      <td>43.1</td>\n",
       "      <td>3.0</td>\n",
       "      <td>1.0</td>\n",
       "      <td>F</td>\n",
       "    </tr>\n",
       "  </tbody>\n",
       "</table>\n",
       "</div>"
      ],
      "text/plain": [
       "   glucose  diaBP   BMI  age  diabetes sex\n",
       "0    148.0    0.0  33.6  7.0       1.0   F\n",
       "1     85.0    0.0  26.6  3.0       0.0   F\n",
       "2    183.0    0.0  23.3  3.0       1.0   F\n",
       "3     89.0    0.0  28.1  1.0       0.0   F\n",
       "4    137.0    0.0  43.1  3.0       1.0   F"
      ]
     },
     "execution_count": 1544,
     "metadata": {},
     "output_type": "execute_result"
    }
   ],
   "source": [
    "# Concatenation of Dataset 1_2 and Dataset 3\n",
    "df_1_2_3 = data_concat(df_1_2,diabetes_binary_copy)\n",
    "df_1_2_3.head()"
   ]
  },
  {
   "cell_type": "code",
   "execution_count": 1545,
   "id": "bef5ac2e",
   "metadata": {},
   "outputs": [
    {
     "name": "stdout",
     "output_type": "stream",
     "text": [
      "<class 'pandas.core.frame.DataFrame'>\n",
      "Int64Index: 74063 entries, 0 to 70691\n",
      "Data columns (total 6 columns):\n",
      " #   Column    Non-Null Count  Dtype  \n",
      "---  ------    --------------  -----  \n",
      " 0   glucose   5001 non-null   float64\n",
      " 1   diaBP     74063 non-null  float64\n",
      " 2   BMI       74052 non-null  float64\n",
      " 3   age       74063 non-null  object \n",
      " 4   diabetes  74063 non-null  float64\n",
      " 5   sex       74063 non-null  object \n",
      "dtypes: float64(4), object(2)\n",
      "memory usage: 4.0+ MB\n"
     ]
    }
   ],
   "source": [
    "df_1_2_3.info()"
   ]
  },
  {
   "cell_type": "markdown",
   "id": "1866b0b5",
   "metadata": {},
   "source": [
    "#### Data analysis"
   ]
  },
  {
   "cell_type": "markdown",
   "id": "83f2220a",
   "metadata": {},
   "source": [
    "##### Seaching a correlation between the features"
   ]
  },
  {
   "cell_type": "code",
   "execution_count": 1546,
   "id": "06800dec",
   "metadata": {},
   "outputs": [
    {
     "data": {
      "image/png": "[encoded data removed]",
      "text/plain": [
       "<Figure size 1440x1080 with 2 Axes>"
      ]
     },
     "metadata": {
      "needs_background": "light"
     },
     "output_type": "display_data"
    }
   ],
   "source": [
    "# Check data correlation\n",
    "corr_matrix(df_1_2_3,'Data correlation matrix')"
   ]
  },
  {
   "cell_type": "markdown",
   "id": "7f412aac",
   "metadata": {},
   "source": [
    "##### Visualisation of relationship between the main diabetes indicators"
   ]
  },
  {
   "cell_type": "code",
   "execution_count": 1547,
   "id": "c028fb78",
   "metadata": {},
   "outputs": [
    {
     "data": {
      "image/png": "[encoded data removed]",
      "text/plain": [
       "<Figure size 432x288 with 1 Axes>"
      ]
     },
     "metadata": {},
     "output_type": "display_data"
    }
   ],
   "source": [
    "# Diebetes distribution on pie plot\n",
    "diabetes_list = ['no diabetes','diagnosed diabetes']\n",
    "data_pie_plot_labels(df_1_2_3, 'diabetes', diabetes_list,'Diabetes distribution in the merged datasets')"
   ]
  },
  {
   "cell_type": "code",
   "execution_count": 1548,
   "id": "f98e323b",
   "metadata": {},
   "outputs": [
    {
     "data": {
      "image/png": "[encoded data removed]",
      "text/plain": [
       "<Figure size 1440x720 with 1 Axes>"
      ]
     },
     "metadata": {
      "needs_background": "light"
     },
     "output_type": "display_data"
    }
   ],
   "source": [
    "# BMI distribution to the Diebetes in a violin plot\n",
    "data_violinplot(df_1_2_3, 'diabetes', 'BMI', 'Diabetes to BMI')"
   ]
  },
  {
   "cell_type": "code",
   "execution_count": 1549,
   "id": "ee2d8d3f",
   "metadata": {},
   "outputs": [
    {
     "data": {
      "image/png": "[encoded data removed]",
      "text/plain": [
       "<Figure size 1440x1080 with 1 Axes>"
      ]
     },
     "metadata": {
      "needs_background": "light"
     },
     "output_type": "display_data"
    }
   ],
   "source": [
    "# The distribution Glucose via boxplot\n",
    "data_boxplot(df_1_2_3, 'glucose', 'diabetes', 'Glucose per observations')"
   ]
  },
  {
   "cell_type": "code",
   "execution_count": 1550,
   "id": "a8cdd11e",
   "metadata": {},
   "outputs": [
    {
     "data": {
      "image/png": "[encoded data removed]",
      "text/plain": [
       "<Figure size 1440x720 with 1 Axes>"
      ]
     },
     "metadata": {
      "needs_background": "light"
     },
     "output_type": "display_data"
    }
   ],
   "source": [
    "#Correlation between the two most significant indicators: Glucose and diaBP\n",
    "data_regplot(df_1_2_3, 'diaBP', 'glucose', 'diabetes', 'Glucose vs Diastolic Blood Pressure')"
   ]
  },
  {
   "cell_type": "markdown",
   "id": "c95e8ab0",
   "metadata": {},
   "source": [
    "### Conclusion:\n",
    "#### Three datasets with data on people with or without diabetes were provided for analysis. The data also included additional medical and behavioral information about the study population.\n",
    "#### After preliminary processing and exploratory analysis, the datasets were merged.\n",
    "#### The final analysis confirmed the significance of indicators such as elevated blood glucose levels after 2 hours and a history of elevated diastolic blood pressure on the likelihood of diagnosing diabetes. \n",
    "#### An elevated body mass index is also a significant, but not leading, indicator of the likelihood of being diagnosed with diabetes."
   ]
  },
  {
   "cell_type": "code",
   "execution_count": null,
   "id": "c636c7cb",
   "metadata": {},
   "outputs": [],
   "source": []
  }
 ],
 "metadata": {
  "kernelspec": {
   "display_name": "Python 3 (ipykernel)",
   "language": "python",
   "name": "python3"
  },
  "language_info": {
   "codemirror_mode": {
    "name": "ipython",
    "version": 3
   },
   "file_extension": ".py",
   "mimetype": "text/x-python",
   "name": "python",
   "nbconvert_exporter": "python",
   "pygments_lexer": "ipython3",
   "version": "3.9.7"
  }
 },
 "nbformat": 4,
 "nbformat_minor": 5
}
